{
  "nbformat": 4,
  "nbformat_minor": 0,
  "metadata": {
    "colab": {
      "provenance": []
    },
    "kernelspec": {
      "name": "python3",
      "display_name": "Python 3"
    },
    "language_info": {
      "name": "python"
    }
  },
  "cells": [
    {
      "cell_type": "code",
      "execution_count": 2,
      "metadata": {
        "id": "oYG1xJp5e6-q"
      },
      "outputs": [],
      "source": [
        "# Importing the required libraries\n",
        "import pandas as pd\n",
        "import numpy as np\n",
        "import math\n",
        "\n",
        "# Reading the dataset (Tennis-dataset)\n",
        "data = pd.read_csv('/content/PlayTennis.csv')"
      ]
    },
    {
      "cell_type": "code",
      "source": [
        "from google.colab import drive\n",
        "drive.mount('/content/drive')"
      ],
      "metadata": {
        "id": "EGCwUupvfEMn"
      },
      "execution_count": null,
      "outputs": []
    },
    {
      "cell_type": "code",
      "source": [
        "def highlight(cell_value):\n",
        "    '''\n",
        "    Highlight yes / no values in the dataframe\n",
        "    '''\n",
        "    color_1 = 'background-color: pink;'\n",
        "    color_2 = 'background-color: lightgreen;'\n",
        "\n",
        "    if cell_value == 'no':\n",
        "        return color_1\n",
        "    elif cell_value == 'yes':\n",
        "        return color_2\n",
        "\n",
        "data.style.applymap(highlight)\\\n",
        "    .set_properties(subset=data.columns, **{'width': '100px'})\\\n",
        "    .set_table_styles([{'selector': 'th', 'props': [('background-color', 'lightgray'), ('border', '1px solid gray'),\n",
        "                                                    ('font-weight', 'bold')]},\n",
        "     {'selector': 'tr:hover', 'props': [('background-color', 'white'), ('border', '1.5px solid black')]}])"
      ],
      "metadata": {
        "colab": {
          "base_uri": "https://localhost:8080/",
          "height": 503
        },
        "id": "roeOgljMfopU",
        "outputId": "77799baf-3a0f-40a6-d868-0801635e98f1"
      },
      "execution_count": 3,
      "outputs": [
        {
          "output_type": "execute_result",
          "data": {
            "text/plain": [
              "<pandas.io.formats.style.Styler at 0x7f773ce8bd90>"
            ],
            "text/html": [
              "<style type=\"text/css\">\n",
              "#T_d1047 th {\n",
              "  background-color: lightgray;\n",
              "  border: 1px solid gray;\n",
              "  font-weight: bold;\n",
              "}\n",
              "#T_d1047 tr:hover {\n",
              "  background-color: white;\n",
              "  border: 1.5px solid black;\n",
              "}\n",
              "#T_d1047_row0_col0, #T_d1047_row0_col1, #T_d1047_row0_col2, #T_d1047_row0_col3, #T_d1047_row1_col0, #T_d1047_row1_col1, #T_d1047_row1_col2, #T_d1047_row1_col3, #T_d1047_row2_col0, #T_d1047_row2_col1, #T_d1047_row2_col2, #T_d1047_row2_col3, #T_d1047_row3_col0, #T_d1047_row3_col1, #T_d1047_row3_col2, #T_d1047_row3_col3, #T_d1047_row4_col0, #T_d1047_row4_col1, #T_d1047_row4_col2, #T_d1047_row4_col3, #T_d1047_row5_col0, #T_d1047_row5_col1, #T_d1047_row5_col2, #T_d1047_row5_col3, #T_d1047_row6_col0, #T_d1047_row6_col1, #T_d1047_row6_col2, #T_d1047_row6_col3, #T_d1047_row7_col0, #T_d1047_row7_col1, #T_d1047_row7_col2, #T_d1047_row7_col3, #T_d1047_row8_col0, #T_d1047_row8_col1, #T_d1047_row8_col2, #T_d1047_row8_col3, #T_d1047_row9_col0, #T_d1047_row9_col1, #T_d1047_row9_col2, #T_d1047_row9_col3, #T_d1047_row10_col0, #T_d1047_row10_col1, #T_d1047_row10_col2, #T_d1047_row10_col3, #T_d1047_row11_col0, #T_d1047_row11_col1, #T_d1047_row11_col2, #T_d1047_row11_col3, #T_d1047_row12_col0, #T_d1047_row12_col1, #T_d1047_row12_col2, #T_d1047_row12_col3, #T_d1047_row13_col0, #T_d1047_row13_col1, #T_d1047_row13_col2, #T_d1047_row13_col3 {\n",
              "  width: 100px;\n",
              "}\n",
              "#T_d1047_row0_col4, #T_d1047_row1_col4, #T_d1047_row5_col4, #T_d1047_row7_col4, #T_d1047_row13_col4 {\n",
              "  background-color: pink;\n",
              "  width: 100px;\n",
              "}\n",
              "#T_d1047_row2_col4, #T_d1047_row3_col4, #T_d1047_row4_col4, #T_d1047_row6_col4, #T_d1047_row8_col4, #T_d1047_row9_col4, #T_d1047_row10_col4, #T_d1047_row11_col4, #T_d1047_row12_col4 {\n",
              "  background-color: lightgreen;\n",
              "  width: 100px;\n",
              "}\n",
              "</style>\n",
              "<table id=\"T_d1047\" class=\"dataframe\">\n",
              "  <thead>\n",
              "    <tr>\n",
              "      <th class=\"blank level0\" >&nbsp;</th>\n",
              "      <th id=\"T_d1047_level0_col0\" class=\"col_heading level0 col0\" >outlook</th>\n",
              "      <th id=\"T_d1047_level0_col1\" class=\"col_heading level0 col1\" >temp</th>\n",
              "      <th id=\"T_d1047_level0_col2\" class=\"col_heading level0 col2\" >humidity</th>\n",
              "      <th id=\"T_d1047_level0_col3\" class=\"col_heading level0 col3\" >windy</th>\n",
              "      <th id=\"T_d1047_level0_col4\" class=\"col_heading level0 col4\" >play</th>\n",
              "    </tr>\n",
              "  </thead>\n",
              "  <tbody>\n",
              "    <tr>\n",
              "      <th id=\"T_d1047_level0_row0\" class=\"row_heading level0 row0\" >0</th>\n",
              "      <td id=\"T_d1047_row0_col0\" class=\"data row0 col0\" >sunny</td>\n",
              "      <td id=\"T_d1047_row0_col1\" class=\"data row0 col1\" >hot</td>\n",
              "      <td id=\"T_d1047_row0_col2\" class=\"data row0 col2\" >high</td>\n",
              "      <td id=\"T_d1047_row0_col3\" class=\"data row0 col3\" >False</td>\n",
              "      <td id=\"T_d1047_row0_col4\" class=\"data row0 col4\" >no</td>\n",
              "    </tr>\n",
              "    <tr>\n",
              "      <th id=\"T_d1047_level0_row1\" class=\"row_heading level0 row1\" >1</th>\n",
              "      <td id=\"T_d1047_row1_col0\" class=\"data row1 col0\" >sunny</td>\n",
              "      <td id=\"T_d1047_row1_col1\" class=\"data row1 col1\" >hot</td>\n",
              "      <td id=\"T_d1047_row1_col2\" class=\"data row1 col2\" >high</td>\n",
              "      <td id=\"T_d1047_row1_col3\" class=\"data row1 col3\" >True</td>\n",
              "      <td id=\"T_d1047_row1_col4\" class=\"data row1 col4\" >no</td>\n",
              "    </tr>\n",
              "    <tr>\n",
              "      <th id=\"T_d1047_level0_row2\" class=\"row_heading level0 row2\" >2</th>\n",
              "      <td id=\"T_d1047_row2_col0\" class=\"data row2 col0\" >overcast</td>\n",
              "      <td id=\"T_d1047_row2_col1\" class=\"data row2 col1\" >hot</td>\n",
              "      <td id=\"T_d1047_row2_col2\" class=\"data row2 col2\" >high</td>\n",
              "      <td id=\"T_d1047_row2_col3\" class=\"data row2 col3\" >False</td>\n",
              "      <td id=\"T_d1047_row2_col4\" class=\"data row2 col4\" >yes</td>\n",
              "    </tr>\n",
              "    <tr>\n",
              "      <th id=\"T_d1047_level0_row3\" class=\"row_heading level0 row3\" >3</th>\n",
              "      <td id=\"T_d1047_row3_col0\" class=\"data row3 col0\" >rainy</td>\n",
              "      <td id=\"T_d1047_row3_col1\" class=\"data row3 col1\" >mild</td>\n",
              "      <td id=\"T_d1047_row3_col2\" class=\"data row3 col2\" >high</td>\n",
              "      <td id=\"T_d1047_row3_col3\" class=\"data row3 col3\" >False</td>\n",
              "      <td id=\"T_d1047_row3_col4\" class=\"data row3 col4\" >yes</td>\n",
              "    </tr>\n",
              "    <tr>\n",
              "      <th id=\"T_d1047_level0_row4\" class=\"row_heading level0 row4\" >4</th>\n",
              "      <td id=\"T_d1047_row4_col0\" class=\"data row4 col0\" >rainy</td>\n",
              "      <td id=\"T_d1047_row4_col1\" class=\"data row4 col1\" >cool</td>\n",
              "      <td id=\"T_d1047_row4_col2\" class=\"data row4 col2\" >normal</td>\n",
              "      <td id=\"T_d1047_row4_col3\" class=\"data row4 col3\" >False</td>\n",
              "      <td id=\"T_d1047_row4_col4\" class=\"data row4 col4\" >yes</td>\n",
              "    </tr>\n",
              "    <tr>\n",
              "      <th id=\"T_d1047_level0_row5\" class=\"row_heading level0 row5\" >5</th>\n",
              "      <td id=\"T_d1047_row5_col0\" class=\"data row5 col0\" >rainy</td>\n",
              "      <td id=\"T_d1047_row5_col1\" class=\"data row5 col1\" >cool</td>\n",
              "      <td id=\"T_d1047_row5_col2\" class=\"data row5 col2\" >normal</td>\n",
              "      <td id=\"T_d1047_row5_col3\" class=\"data row5 col3\" >True</td>\n",
              "      <td id=\"T_d1047_row5_col4\" class=\"data row5 col4\" >no</td>\n",
              "    </tr>\n",
              "    <tr>\n",
              "      <th id=\"T_d1047_level0_row6\" class=\"row_heading level0 row6\" >6</th>\n",
              "      <td id=\"T_d1047_row6_col0\" class=\"data row6 col0\" >overcast</td>\n",
              "      <td id=\"T_d1047_row6_col1\" class=\"data row6 col1\" >cool</td>\n",
              "      <td id=\"T_d1047_row6_col2\" class=\"data row6 col2\" >normal</td>\n",
              "      <td id=\"T_d1047_row6_col3\" class=\"data row6 col3\" >True</td>\n",
              "      <td id=\"T_d1047_row6_col4\" class=\"data row6 col4\" >yes</td>\n",
              "    </tr>\n",
              "    <tr>\n",
              "      <th id=\"T_d1047_level0_row7\" class=\"row_heading level0 row7\" >7</th>\n",
              "      <td id=\"T_d1047_row7_col0\" class=\"data row7 col0\" >sunny</td>\n",
              "      <td id=\"T_d1047_row7_col1\" class=\"data row7 col1\" >mild</td>\n",
              "      <td id=\"T_d1047_row7_col2\" class=\"data row7 col2\" >high</td>\n",
              "      <td id=\"T_d1047_row7_col3\" class=\"data row7 col3\" >False</td>\n",
              "      <td id=\"T_d1047_row7_col4\" class=\"data row7 col4\" >no</td>\n",
              "    </tr>\n",
              "    <tr>\n",
              "      <th id=\"T_d1047_level0_row8\" class=\"row_heading level0 row8\" >8</th>\n",
              "      <td id=\"T_d1047_row8_col0\" class=\"data row8 col0\" >sunny</td>\n",
              "      <td id=\"T_d1047_row8_col1\" class=\"data row8 col1\" >cool</td>\n",
              "      <td id=\"T_d1047_row8_col2\" class=\"data row8 col2\" >normal</td>\n",
              "      <td id=\"T_d1047_row8_col3\" class=\"data row8 col3\" >False</td>\n",
              "      <td id=\"T_d1047_row8_col4\" class=\"data row8 col4\" >yes</td>\n",
              "    </tr>\n",
              "    <tr>\n",
              "      <th id=\"T_d1047_level0_row9\" class=\"row_heading level0 row9\" >9</th>\n",
              "      <td id=\"T_d1047_row9_col0\" class=\"data row9 col0\" >rainy</td>\n",
              "      <td id=\"T_d1047_row9_col1\" class=\"data row9 col1\" >mild</td>\n",
              "      <td id=\"T_d1047_row9_col2\" class=\"data row9 col2\" >normal</td>\n",
              "      <td id=\"T_d1047_row9_col3\" class=\"data row9 col3\" >False</td>\n",
              "      <td id=\"T_d1047_row9_col4\" class=\"data row9 col4\" >yes</td>\n",
              "    </tr>\n",
              "    <tr>\n",
              "      <th id=\"T_d1047_level0_row10\" class=\"row_heading level0 row10\" >10</th>\n",
              "      <td id=\"T_d1047_row10_col0\" class=\"data row10 col0\" >sunny</td>\n",
              "      <td id=\"T_d1047_row10_col1\" class=\"data row10 col1\" >mild</td>\n",
              "      <td id=\"T_d1047_row10_col2\" class=\"data row10 col2\" >normal</td>\n",
              "      <td id=\"T_d1047_row10_col3\" class=\"data row10 col3\" >True</td>\n",
              "      <td id=\"T_d1047_row10_col4\" class=\"data row10 col4\" >yes</td>\n",
              "    </tr>\n",
              "    <tr>\n",
              "      <th id=\"T_d1047_level0_row11\" class=\"row_heading level0 row11\" >11</th>\n",
              "      <td id=\"T_d1047_row11_col0\" class=\"data row11 col0\" >overcast</td>\n",
              "      <td id=\"T_d1047_row11_col1\" class=\"data row11 col1\" >mild</td>\n",
              "      <td id=\"T_d1047_row11_col2\" class=\"data row11 col2\" >high</td>\n",
              "      <td id=\"T_d1047_row11_col3\" class=\"data row11 col3\" >True</td>\n",
              "      <td id=\"T_d1047_row11_col4\" class=\"data row11 col4\" >yes</td>\n",
              "    </tr>\n",
              "    <tr>\n",
              "      <th id=\"T_d1047_level0_row12\" class=\"row_heading level0 row12\" >12</th>\n",
              "      <td id=\"T_d1047_row12_col0\" class=\"data row12 col0\" >overcast</td>\n",
              "      <td id=\"T_d1047_row12_col1\" class=\"data row12 col1\" >hot</td>\n",
              "      <td id=\"T_d1047_row12_col2\" class=\"data row12 col2\" >normal</td>\n",
              "      <td id=\"T_d1047_row12_col3\" class=\"data row12 col3\" >False</td>\n",
              "      <td id=\"T_d1047_row12_col4\" class=\"data row12 col4\" >yes</td>\n",
              "    </tr>\n",
              "    <tr>\n",
              "      <th id=\"T_d1047_level0_row13\" class=\"row_heading level0 row13\" >13</th>\n",
              "      <td id=\"T_d1047_row13_col0\" class=\"data row13 col0\" >rainy</td>\n",
              "      <td id=\"T_d1047_row13_col1\" class=\"data row13 col1\" >mild</td>\n",
              "      <td id=\"T_d1047_row13_col2\" class=\"data row13 col2\" >high</td>\n",
              "      <td id=\"T_d1047_row13_col3\" class=\"data row13 col3\" >True</td>\n",
              "      <td id=\"T_d1047_row13_col4\" class=\"data row13 col4\" >no</td>\n",
              "    </tr>\n",
              "  </tbody>\n",
              "</table>\n"
            ]
          },
          "metadata": {},
          "execution_count": 3
        }
      ]
    },
    {
      "cell_type": "code",
      "source": [
        "def find_entropy(data):\n",
        "    \"\"\"\n",
        "    Returns the entropy of the class or features\n",
        "    formula: - ∑ P(X)logP(X)\n",
        "    \"\"\"\n",
        "    entropy = 0\n",
        "    for i in range(data.nunique()):\n",
        "        x = data.value_counts()[i]/data.shape[0]\n",
        "        entropy += (- x * math.log(x,2))\n",
        "    return round(entropy,3)\n",
        "\n",
        "\n",
        "\n",
        "def information_gain(data, data_):\n",
        "    \"\"\"\n",
        "    Returns the information gain of the features\n",
        "    \"\"\"\n",
        "    info = 0\n",
        "    for i in range(data_.nunique()):\n",
        "        df = data[data_ == data_.unique()[i]]\n",
        "        w_avg = df.shape[0]/data.shape[0]\n",
        "        entropy = find_entropy(df.play)\n",
        "        x = w_avg * entropy\n",
        "        info += x\n",
        "    ig = find_entropy(data.play) - info\n",
        "    return round(ig, 3)\n",
        "\n",
        "\n",
        "\n",
        "def entropy_and_infogain(datax, feature):\n",
        "    \"\"\"\n",
        "    Grouping features with the same class and computing their\n",
        "    entropy and information gain for splitting\n",
        "    \"\"\"\n",
        "    for i in range(data[feature].nunique()):\n",
        "        df = datax[datax[feature]==data[feature].unique()[i]]\n",
        "        if df.shape[0] < 1:\n",
        "            continue\n",
        "\n",
        "        display(df[[feature, 'play']].style.applymap(highlight)\\\n",
        "                .set_properties(subset=[feature, 'play'], **{'width': '80px'})\\\n",
        "                .set_table_styles([{'selector': 'th', 'props': [('background-color', 'lightgray'),\n",
        "                                                                ('border', '1px solid gray'),\n",
        "                                                                ('font-weight', 'bold')]},\n",
        "                                   {'selector': 'td', 'props': [('border', '1px solid gray')]},\n",
        "                                   {'selector': 'tr:hover', 'props': [('background-color', 'white'),\n",
        "                                                                      ('border', '1.5px solid black')]}]))\n",
        "\n",
        "        print(f'Entropy of {feature} - {data[feature].unique()[i]} = {find_entropy(df.play)}')\n",
        "    print(f'Information Gain for {feature} = {information_gain(datax, datax[feature])}')"
      ],
      "metadata": {
        "id": "rK2YaRN5fsBk"
      },
      "execution_count": 4,
      "outputs": []
    },
    {
      "cell_type": "code",
      "source": [
        "print(f'Entropy of the entire dataset: {find_entropy(data.play)}')"
      ],
      "metadata": {
        "colab": {
          "base_uri": "https://localhost:8080/"
        },
        "id": "4bQy07-xfsq0",
        "outputId": "6c4458ee-6b40-41cb-b221-053bdf8e0514"
      },
      "execution_count": 5,
      "outputs": [
        {
          "output_type": "stream",
          "name": "stdout",
          "text": [
            "Entropy of the entire dataset: 0.94\n"
          ]
        }
      ]
    },
    {
      "cell_type": "code",
      "source": [
        "entropy_and_infogain(data, 'temp')"
      ],
      "metadata": {
        "colab": {
          "base_uri": "https://localhost:8080/",
          "height": 640
        },
        "id": "o_hn6xaXfxB0",
        "outputId": "51f3ee27-fb7f-4967-c455-34d55ff35e9b"
      },
      "execution_count": 6,
      "outputs": [
        {
          "output_type": "display_data",
          "data": {
            "text/plain": [
              "<pandas.io.formats.style.Styler at 0x7f773cd16aa0>"
            ],
            "text/html": [
              "<style type=\"text/css\">\n",
              "#T_4f529 th {\n",
              "  background-color: lightgray;\n",
              "  border: 1px solid gray;\n",
              "  font-weight: bold;\n",
              "}\n",
              "#T_4f529 td {\n",
              "  border: 1px solid gray;\n",
              "}\n",
              "#T_4f529 tr:hover {\n",
              "  background-color: white;\n",
              "  border: 1.5px solid black;\n",
              "}\n",
              "#T_4f529_row0_col0, #T_4f529_row1_col0, #T_4f529_row2_col0, #T_4f529_row3_col0 {\n",
              "  width: 80px;\n",
              "}\n",
              "#T_4f529_row0_col1, #T_4f529_row1_col1 {\n",
              "  background-color: pink;\n",
              "  width: 80px;\n",
              "}\n",
              "#T_4f529_row2_col1, #T_4f529_row3_col1 {\n",
              "  background-color: lightgreen;\n",
              "  width: 80px;\n",
              "}\n",
              "</style>\n",
              "<table id=\"T_4f529\" class=\"dataframe\">\n",
              "  <thead>\n",
              "    <tr>\n",
              "      <th class=\"blank level0\" >&nbsp;</th>\n",
              "      <th id=\"T_4f529_level0_col0\" class=\"col_heading level0 col0\" >temp</th>\n",
              "      <th id=\"T_4f529_level0_col1\" class=\"col_heading level0 col1\" >play</th>\n",
              "    </tr>\n",
              "  </thead>\n",
              "  <tbody>\n",
              "    <tr>\n",
              "      <th id=\"T_4f529_level0_row0\" class=\"row_heading level0 row0\" >0</th>\n",
              "      <td id=\"T_4f529_row0_col0\" class=\"data row0 col0\" >hot</td>\n",
              "      <td id=\"T_4f529_row0_col1\" class=\"data row0 col1\" >no</td>\n",
              "    </tr>\n",
              "    <tr>\n",
              "      <th id=\"T_4f529_level0_row1\" class=\"row_heading level0 row1\" >1</th>\n",
              "      <td id=\"T_4f529_row1_col0\" class=\"data row1 col0\" >hot</td>\n",
              "      <td id=\"T_4f529_row1_col1\" class=\"data row1 col1\" >no</td>\n",
              "    </tr>\n",
              "    <tr>\n",
              "      <th id=\"T_4f529_level0_row2\" class=\"row_heading level0 row2\" >2</th>\n",
              "      <td id=\"T_4f529_row2_col0\" class=\"data row2 col0\" >hot</td>\n",
              "      <td id=\"T_4f529_row2_col1\" class=\"data row2 col1\" >yes</td>\n",
              "    </tr>\n",
              "    <tr>\n",
              "      <th id=\"T_4f529_level0_row3\" class=\"row_heading level0 row3\" >12</th>\n",
              "      <td id=\"T_4f529_row3_col0\" class=\"data row3 col0\" >hot</td>\n",
              "      <td id=\"T_4f529_row3_col1\" class=\"data row3 col1\" >yes</td>\n",
              "    </tr>\n",
              "  </tbody>\n",
              "</table>\n"
            ]
          },
          "metadata": {}
        },
        {
          "output_type": "stream",
          "name": "stdout",
          "text": [
            "Entropy of temp - hot = 1.0\n"
          ]
        },
        {
          "output_type": "display_data",
          "data": {
            "text/plain": [
              "<pandas.io.formats.style.Styler at 0x7f773cd16e00>"
            ],
            "text/html": [
              "<style type=\"text/css\">\n",
              "#T_a67f0 th {\n",
              "  background-color: lightgray;\n",
              "  border: 1px solid gray;\n",
              "  font-weight: bold;\n",
              "}\n",
              "#T_a67f0 td {\n",
              "  border: 1px solid gray;\n",
              "}\n",
              "#T_a67f0 tr:hover {\n",
              "  background-color: white;\n",
              "  border: 1.5px solid black;\n",
              "}\n",
              "#T_a67f0_row0_col0, #T_a67f0_row1_col0, #T_a67f0_row2_col0, #T_a67f0_row3_col0, #T_a67f0_row4_col0, #T_a67f0_row5_col0 {\n",
              "  width: 80px;\n",
              "}\n",
              "#T_a67f0_row0_col1, #T_a67f0_row2_col1, #T_a67f0_row3_col1, #T_a67f0_row4_col1 {\n",
              "  background-color: lightgreen;\n",
              "  width: 80px;\n",
              "}\n",
              "#T_a67f0_row1_col1, #T_a67f0_row5_col1 {\n",
              "  background-color: pink;\n",
              "  width: 80px;\n",
              "}\n",
              "</style>\n",
              "<table id=\"T_a67f0\" class=\"dataframe\">\n",
              "  <thead>\n",
              "    <tr>\n",
              "      <th class=\"blank level0\" >&nbsp;</th>\n",
              "      <th id=\"T_a67f0_level0_col0\" class=\"col_heading level0 col0\" >temp</th>\n",
              "      <th id=\"T_a67f0_level0_col1\" class=\"col_heading level0 col1\" >play</th>\n",
              "    </tr>\n",
              "  </thead>\n",
              "  <tbody>\n",
              "    <tr>\n",
              "      <th id=\"T_a67f0_level0_row0\" class=\"row_heading level0 row0\" >3</th>\n",
              "      <td id=\"T_a67f0_row0_col0\" class=\"data row0 col0\" >mild</td>\n",
              "      <td id=\"T_a67f0_row0_col1\" class=\"data row0 col1\" >yes</td>\n",
              "    </tr>\n",
              "    <tr>\n",
              "      <th id=\"T_a67f0_level0_row1\" class=\"row_heading level0 row1\" >7</th>\n",
              "      <td id=\"T_a67f0_row1_col0\" class=\"data row1 col0\" >mild</td>\n",
              "      <td id=\"T_a67f0_row1_col1\" class=\"data row1 col1\" >no</td>\n",
              "    </tr>\n",
              "    <tr>\n",
              "      <th id=\"T_a67f0_level0_row2\" class=\"row_heading level0 row2\" >9</th>\n",
              "      <td id=\"T_a67f0_row2_col0\" class=\"data row2 col0\" >mild</td>\n",
              "      <td id=\"T_a67f0_row2_col1\" class=\"data row2 col1\" >yes</td>\n",
              "    </tr>\n",
              "    <tr>\n",
              "      <th id=\"T_a67f0_level0_row3\" class=\"row_heading level0 row3\" >10</th>\n",
              "      <td id=\"T_a67f0_row3_col0\" class=\"data row3 col0\" >mild</td>\n",
              "      <td id=\"T_a67f0_row3_col1\" class=\"data row3 col1\" >yes</td>\n",
              "    </tr>\n",
              "    <tr>\n",
              "      <th id=\"T_a67f0_level0_row4\" class=\"row_heading level0 row4\" >11</th>\n",
              "      <td id=\"T_a67f0_row4_col0\" class=\"data row4 col0\" >mild</td>\n",
              "      <td id=\"T_a67f0_row4_col1\" class=\"data row4 col1\" >yes</td>\n",
              "    </tr>\n",
              "    <tr>\n",
              "      <th id=\"T_a67f0_level0_row5\" class=\"row_heading level0 row5\" >13</th>\n",
              "      <td id=\"T_a67f0_row5_col0\" class=\"data row5 col0\" >mild</td>\n",
              "      <td id=\"T_a67f0_row5_col1\" class=\"data row5 col1\" >no</td>\n",
              "    </tr>\n",
              "  </tbody>\n",
              "</table>\n"
            ]
          },
          "metadata": {}
        },
        {
          "output_type": "stream",
          "name": "stdout",
          "text": [
            "Entropy of temp - mild = 0.918\n"
          ]
        },
        {
          "output_type": "display_data",
          "data": {
            "text/plain": [
              "<pandas.io.formats.style.Styler at 0x7f773cd15f90>"
            ],
            "text/html": [
              "<style type=\"text/css\">\n",
              "#T_fcaae th {\n",
              "  background-color: lightgray;\n",
              "  border: 1px solid gray;\n",
              "  font-weight: bold;\n",
              "}\n",
              "#T_fcaae td {\n",
              "  border: 1px solid gray;\n",
              "}\n",
              "#T_fcaae tr:hover {\n",
              "  background-color: white;\n",
              "  border: 1.5px solid black;\n",
              "}\n",
              "#T_fcaae_row0_col0, #T_fcaae_row1_col0, #T_fcaae_row2_col0, #T_fcaae_row3_col0 {\n",
              "  width: 80px;\n",
              "}\n",
              "#T_fcaae_row0_col1, #T_fcaae_row2_col1, #T_fcaae_row3_col1 {\n",
              "  background-color: lightgreen;\n",
              "  width: 80px;\n",
              "}\n",
              "#T_fcaae_row1_col1 {\n",
              "  background-color: pink;\n",
              "  width: 80px;\n",
              "}\n",
              "</style>\n",
              "<table id=\"T_fcaae\" class=\"dataframe\">\n",
              "  <thead>\n",
              "    <tr>\n",
              "      <th class=\"blank level0\" >&nbsp;</th>\n",
              "      <th id=\"T_fcaae_level0_col0\" class=\"col_heading level0 col0\" >temp</th>\n",
              "      <th id=\"T_fcaae_level0_col1\" class=\"col_heading level0 col1\" >play</th>\n",
              "    </tr>\n",
              "  </thead>\n",
              "  <tbody>\n",
              "    <tr>\n",
              "      <th id=\"T_fcaae_level0_row0\" class=\"row_heading level0 row0\" >4</th>\n",
              "      <td id=\"T_fcaae_row0_col0\" class=\"data row0 col0\" >cool</td>\n",
              "      <td id=\"T_fcaae_row0_col1\" class=\"data row0 col1\" >yes</td>\n",
              "    </tr>\n",
              "    <tr>\n",
              "      <th id=\"T_fcaae_level0_row1\" class=\"row_heading level0 row1\" >5</th>\n",
              "      <td id=\"T_fcaae_row1_col0\" class=\"data row1 col0\" >cool</td>\n",
              "      <td id=\"T_fcaae_row1_col1\" class=\"data row1 col1\" >no</td>\n",
              "    </tr>\n",
              "    <tr>\n",
              "      <th id=\"T_fcaae_level0_row2\" class=\"row_heading level0 row2\" >6</th>\n",
              "      <td id=\"T_fcaae_row2_col0\" class=\"data row2 col0\" >cool</td>\n",
              "      <td id=\"T_fcaae_row2_col1\" class=\"data row2 col1\" >yes</td>\n",
              "    </tr>\n",
              "    <tr>\n",
              "      <th id=\"T_fcaae_level0_row3\" class=\"row_heading level0 row3\" >8</th>\n",
              "      <td id=\"T_fcaae_row3_col0\" class=\"data row3 col0\" >cool</td>\n",
              "      <td id=\"T_fcaae_row3_col1\" class=\"data row3 col1\" >yes</td>\n",
              "    </tr>\n",
              "  </tbody>\n",
              "</table>\n"
            ]
          },
          "metadata": {}
        },
        {
          "output_type": "stream",
          "name": "stdout",
          "text": [
            "Entropy of temp - cool = 0.811\n",
            "Information Gain for temp = 0.029\n"
          ]
        }
      ]
    },
    {
      "cell_type": "code",
      "source": [
        "entropy_and_infogain(data, 'humidity')"
      ],
      "metadata": {
        "colab": {
          "base_uri": "https://localhost:8080/",
          "height": 589
        },
        "id": "F6Y-ZSFPf3Pk",
        "outputId": "c51645f9-39d4-4b45-b2ba-c84f471d2d43"
      },
      "execution_count": 7,
      "outputs": [
        {
          "output_type": "display_data",
          "data": {
            "text/plain": [
              "<pandas.io.formats.style.Styler at 0x7f773cd15c60>"
            ],
            "text/html": [
              "<style type=\"text/css\">\n",
              "#T_b8538 th {\n",
              "  background-color: lightgray;\n",
              "  border: 1px solid gray;\n",
              "  font-weight: bold;\n",
              "}\n",
              "#T_b8538 td {\n",
              "  border: 1px solid gray;\n",
              "}\n",
              "#T_b8538 tr:hover {\n",
              "  background-color: white;\n",
              "  border: 1.5px solid black;\n",
              "}\n",
              "#T_b8538_row0_col0, #T_b8538_row1_col0, #T_b8538_row2_col0, #T_b8538_row3_col0, #T_b8538_row4_col0, #T_b8538_row5_col0, #T_b8538_row6_col0 {\n",
              "  width: 80px;\n",
              "}\n",
              "#T_b8538_row0_col1, #T_b8538_row1_col1, #T_b8538_row4_col1, #T_b8538_row6_col1 {\n",
              "  background-color: pink;\n",
              "  width: 80px;\n",
              "}\n",
              "#T_b8538_row2_col1, #T_b8538_row3_col1, #T_b8538_row5_col1 {\n",
              "  background-color: lightgreen;\n",
              "  width: 80px;\n",
              "}\n",
              "</style>\n",
              "<table id=\"T_b8538\" class=\"dataframe\">\n",
              "  <thead>\n",
              "    <tr>\n",
              "      <th class=\"blank level0\" >&nbsp;</th>\n",
              "      <th id=\"T_b8538_level0_col0\" class=\"col_heading level0 col0\" >humidity</th>\n",
              "      <th id=\"T_b8538_level0_col1\" class=\"col_heading level0 col1\" >play</th>\n",
              "    </tr>\n",
              "  </thead>\n",
              "  <tbody>\n",
              "    <tr>\n",
              "      <th id=\"T_b8538_level0_row0\" class=\"row_heading level0 row0\" >0</th>\n",
              "      <td id=\"T_b8538_row0_col0\" class=\"data row0 col0\" >high</td>\n",
              "      <td id=\"T_b8538_row0_col1\" class=\"data row0 col1\" >no</td>\n",
              "    </tr>\n",
              "    <tr>\n",
              "      <th id=\"T_b8538_level0_row1\" class=\"row_heading level0 row1\" >1</th>\n",
              "      <td id=\"T_b8538_row1_col0\" class=\"data row1 col0\" >high</td>\n",
              "      <td id=\"T_b8538_row1_col1\" class=\"data row1 col1\" >no</td>\n",
              "    </tr>\n",
              "    <tr>\n",
              "      <th id=\"T_b8538_level0_row2\" class=\"row_heading level0 row2\" >2</th>\n",
              "      <td id=\"T_b8538_row2_col0\" class=\"data row2 col0\" >high</td>\n",
              "      <td id=\"T_b8538_row2_col1\" class=\"data row2 col1\" >yes</td>\n",
              "    </tr>\n",
              "    <tr>\n",
              "      <th id=\"T_b8538_level0_row3\" class=\"row_heading level0 row3\" >3</th>\n",
              "      <td id=\"T_b8538_row3_col0\" class=\"data row3 col0\" >high</td>\n",
              "      <td id=\"T_b8538_row3_col1\" class=\"data row3 col1\" >yes</td>\n",
              "    </tr>\n",
              "    <tr>\n",
              "      <th id=\"T_b8538_level0_row4\" class=\"row_heading level0 row4\" >7</th>\n",
              "      <td id=\"T_b8538_row4_col0\" class=\"data row4 col0\" >high</td>\n",
              "      <td id=\"T_b8538_row4_col1\" class=\"data row4 col1\" >no</td>\n",
              "    </tr>\n",
              "    <tr>\n",
              "      <th id=\"T_b8538_level0_row5\" class=\"row_heading level0 row5\" >11</th>\n",
              "      <td id=\"T_b8538_row5_col0\" class=\"data row5 col0\" >high</td>\n",
              "      <td id=\"T_b8538_row5_col1\" class=\"data row5 col1\" >yes</td>\n",
              "    </tr>\n",
              "    <tr>\n",
              "      <th id=\"T_b8538_level0_row6\" class=\"row_heading level0 row6\" >13</th>\n",
              "      <td id=\"T_b8538_row6_col0\" class=\"data row6 col0\" >high</td>\n",
              "      <td id=\"T_b8538_row6_col1\" class=\"data row6 col1\" >no</td>\n",
              "    </tr>\n",
              "  </tbody>\n",
              "</table>\n"
            ]
          },
          "metadata": {}
        },
        {
          "output_type": "stream",
          "name": "stdout",
          "text": [
            "Entropy of humidity - high = 0.985\n"
          ]
        },
        {
          "output_type": "display_data",
          "data": {
            "text/plain": [
              "<pandas.io.formats.style.Styler at 0x7f773cd14970>"
            ],
            "text/html": [
              "<style type=\"text/css\">\n",
              "#T_d3013 th {\n",
              "  background-color: lightgray;\n",
              "  border: 1px solid gray;\n",
              "  font-weight: bold;\n",
              "}\n",
              "#T_d3013 td {\n",
              "  border: 1px solid gray;\n",
              "}\n",
              "#T_d3013 tr:hover {\n",
              "  background-color: white;\n",
              "  border: 1.5px solid black;\n",
              "}\n",
              "#T_d3013_row0_col0, #T_d3013_row1_col0, #T_d3013_row2_col0, #T_d3013_row3_col0, #T_d3013_row4_col0, #T_d3013_row5_col0, #T_d3013_row6_col0 {\n",
              "  width: 80px;\n",
              "}\n",
              "#T_d3013_row0_col1, #T_d3013_row2_col1, #T_d3013_row3_col1, #T_d3013_row4_col1, #T_d3013_row5_col1, #T_d3013_row6_col1 {\n",
              "  background-color: lightgreen;\n",
              "  width: 80px;\n",
              "}\n",
              "#T_d3013_row1_col1 {\n",
              "  background-color: pink;\n",
              "  width: 80px;\n",
              "}\n",
              "</style>\n",
              "<table id=\"T_d3013\" class=\"dataframe\">\n",
              "  <thead>\n",
              "    <tr>\n",
              "      <th class=\"blank level0\" >&nbsp;</th>\n",
              "      <th id=\"T_d3013_level0_col0\" class=\"col_heading level0 col0\" >humidity</th>\n",
              "      <th id=\"T_d3013_level0_col1\" class=\"col_heading level0 col1\" >play</th>\n",
              "    </tr>\n",
              "  </thead>\n",
              "  <tbody>\n",
              "    <tr>\n",
              "      <th id=\"T_d3013_level0_row0\" class=\"row_heading level0 row0\" >4</th>\n",
              "      <td id=\"T_d3013_row0_col0\" class=\"data row0 col0\" >normal</td>\n",
              "      <td id=\"T_d3013_row0_col1\" class=\"data row0 col1\" >yes</td>\n",
              "    </tr>\n",
              "    <tr>\n",
              "      <th id=\"T_d3013_level0_row1\" class=\"row_heading level0 row1\" >5</th>\n",
              "      <td id=\"T_d3013_row1_col0\" class=\"data row1 col0\" >normal</td>\n",
              "      <td id=\"T_d3013_row1_col1\" class=\"data row1 col1\" >no</td>\n",
              "    </tr>\n",
              "    <tr>\n",
              "      <th id=\"T_d3013_level0_row2\" class=\"row_heading level0 row2\" >6</th>\n",
              "      <td id=\"T_d3013_row2_col0\" class=\"data row2 col0\" >normal</td>\n",
              "      <td id=\"T_d3013_row2_col1\" class=\"data row2 col1\" >yes</td>\n",
              "    </tr>\n",
              "    <tr>\n",
              "      <th id=\"T_d3013_level0_row3\" class=\"row_heading level0 row3\" >8</th>\n",
              "      <td id=\"T_d3013_row3_col0\" class=\"data row3 col0\" >normal</td>\n",
              "      <td id=\"T_d3013_row3_col1\" class=\"data row3 col1\" >yes</td>\n",
              "    </tr>\n",
              "    <tr>\n",
              "      <th id=\"T_d3013_level0_row4\" class=\"row_heading level0 row4\" >9</th>\n",
              "      <td id=\"T_d3013_row4_col0\" class=\"data row4 col0\" >normal</td>\n",
              "      <td id=\"T_d3013_row4_col1\" class=\"data row4 col1\" >yes</td>\n",
              "    </tr>\n",
              "    <tr>\n",
              "      <th id=\"T_d3013_level0_row5\" class=\"row_heading level0 row5\" >10</th>\n",
              "      <td id=\"T_d3013_row5_col0\" class=\"data row5 col0\" >normal</td>\n",
              "      <td id=\"T_d3013_row5_col1\" class=\"data row5 col1\" >yes</td>\n",
              "    </tr>\n",
              "    <tr>\n",
              "      <th id=\"T_d3013_level0_row6\" class=\"row_heading level0 row6\" >12</th>\n",
              "      <td id=\"T_d3013_row6_col0\" class=\"data row6 col0\" >normal</td>\n",
              "      <td id=\"T_d3013_row6_col1\" class=\"data row6 col1\" >yes</td>\n",
              "    </tr>\n",
              "  </tbody>\n",
              "</table>\n"
            ]
          },
          "metadata": {}
        },
        {
          "output_type": "stream",
          "name": "stdout",
          "text": [
            "Entropy of humidity - normal = 0.592\n",
            "Information Gain for humidity = 0.151\n"
          ]
        }
      ]
    },
    {
      "cell_type": "code",
      "source": [
        "entropy_and_infogain(data, 'windy')"
      ],
      "metadata": {
        "colab": {
          "base_uri": "https://localhost:8080/",
          "height": 589
        },
        "id": "W8k5kTuBf5kE",
        "outputId": "ff1bbaa8-3455-4dfa-90f8-67a1ff8c2f1c"
      },
      "execution_count": 8,
      "outputs": [
        {
          "output_type": "display_data",
          "data": {
            "text/plain": [
              "<pandas.io.formats.style.Styler at 0x7f773cd16b90>"
            ],
            "text/html": [
              "<style type=\"text/css\">\n",
              "#T_f79fc th {\n",
              "  background-color: lightgray;\n",
              "  border: 1px solid gray;\n",
              "  font-weight: bold;\n",
              "}\n",
              "#T_f79fc td {\n",
              "  border: 1px solid gray;\n",
              "}\n",
              "#T_f79fc tr:hover {\n",
              "  background-color: white;\n",
              "  border: 1.5px solid black;\n",
              "}\n",
              "#T_f79fc_row0_col0, #T_f79fc_row1_col0, #T_f79fc_row2_col0, #T_f79fc_row3_col0, #T_f79fc_row4_col0, #T_f79fc_row5_col0, #T_f79fc_row6_col0, #T_f79fc_row7_col0 {\n",
              "  width: 80px;\n",
              "}\n",
              "#T_f79fc_row0_col1, #T_f79fc_row4_col1 {\n",
              "  background-color: pink;\n",
              "  width: 80px;\n",
              "}\n",
              "#T_f79fc_row1_col1, #T_f79fc_row2_col1, #T_f79fc_row3_col1, #T_f79fc_row5_col1, #T_f79fc_row6_col1, #T_f79fc_row7_col1 {\n",
              "  background-color: lightgreen;\n",
              "  width: 80px;\n",
              "}\n",
              "</style>\n",
              "<table id=\"T_f79fc\" class=\"dataframe\">\n",
              "  <thead>\n",
              "    <tr>\n",
              "      <th class=\"blank level0\" >&nbsp;</th>\n",
              "      <th id=\"T_f79fc_level0_col0\" class=\"col_heading level0 col0\" >windy</th>\n",
              "      <th id=\"T_f79fc_level0_col1\" class=\"col_heading level0 col1\" >play</th>\n",
              "    </tr>\n",
              "  </thead>\n",
              "  <tbody>\n",
              "    <tr>\n",
              "      <th id=\"T_f79fc_level0_row0\" class=\"row_heading level0 row0\" >0</th>\n",
              "      <td id=\"T_f79fc_row0_col0\" class=\"data row0 col0\" >False</td>\n",
              "      <td id=\"T_f79fc_row0_col1\" class=\"data row0 col1\" >no</td>\n",
              "    </tr>\n",
              "    <tr>\n",
              "      <th id=\"T_f79fc_level0_row1\" class=\"row_heading level0 row1\" >2</th>\n",
              "      <td id=\"T_f79fc_row1_col0\" class=\"data row1 col0\" >False</td>\n",
              "      <td id=\"T_f79fc_row1_col1\" class=\"data row1 col1\" >yes</td>\n",
              "    </tr>\n",
              "    <tr>\n",
              "      <th id=\"T_f79fc_level0_row2\" class=\"row_heading level0 row2\" >3</th>\n",
              "      <td id=\"T_f79fc_row2_col0\" class=\"data row2 col0\" >False</td>\n",
              "      <td id=\"T_f79fc_row2_col1\" class=\"data row2 col1\" >yes</td>\n",
              "    </tr>\n",
              "    <tr>\n",
              "      <th id=\"T_f79fc_level0_row3\" class=\"row_heading level0 row3\" >4</th>\n",
              "      <td id=\"T_f79fc_row3_col0\" class=\"data row3 col0\" >False</td>\n",
              "      <td id=\"T_f79fc_row3_col1\" class=\"data row3 col1\" >yes</td>\n",
              "    </tr>\n",
              "    <tr>\n",
              "      <th id=\"T_f79fc_level0_row4\" class=\"row_heading level0 row4\" >7</th>\n",
              "      <td id=\"T_f79fc_row4_col0\" class=\"data row4 col0\" >False</td>\n",
              "      <td id=\"T_f79fc_row4_col1\" class=\"data row4 col1\" >no</td>\n",
              "    </tr>\n",
              "    <tr>\n",
              "      <th id=\"T_f79fc_level0_row5\" class=\"row_heading level0 row5\" >8</th>\n",
              "      <td id=\"T_f79fc_row5_col0\" class=\"data row5 col0\" >False</td>\n",
              "      <td id=\"T_f79fc_row5_col1\" class=\"data row5 col1\" >yes</td>\n",
              "    </tr>\n",
              "    <tr>\n",
              "      <th id=\"T_f79fc_level0_row6\" class=\"row_heading level0 row6\" >9</th>\n",
              "      <td id=\"T_f79fc_row6_col0\" class=\"data row6 col0\" >False</td>\n",
              "      <td id=\"T_f79fc_row6_col1\" class=\"data row6 col1\" >yes</td>\n",
              "    </tr>\n",
              "    <tr>\n",
              "      <th id=\"T_f79fc_level0_row7\" class=\"row_heading level0 row7\" >12</th>\n",
              "      <td id=\"T_f79fc_row7_col0\" class=\"data row7 col0\" >False</td>\n",
              "      <td id=\"T_f79fc_row7_col1\" class=\"data row7 col1\" >yes</td>\n",
              "    </tr>\n",
              "  </tbody>\n",
              "</table>\n"
            ]
          },
          "metadata": {}
        },
        {
          "output_type": "stream",
          "name": "stdout",
          "text": [
            "Entropy of windy - False = 0.811\n"
          ]
        },
        {
          "output_type": "display_data",
          "data": {
            "text/plain": [
              "<pandas.io.formats.style.Styler at 0x7f773cd179d0>"
            ],
            "text/html": [
              "<style type=\"text/css\">\n",
              "#T_69913 th {\n",
              "  background-color: lightgray;\n",
              "  border: 1px solid gray;\n",
              "  font-weight: bold;\n",
              "}\n",
              "#T_69913 td {\n",
              "  border: 1px solid gray;\n",
              "}\n",
              "#T_69913 tr:hover {\n",
              "  background-color: white;\n",
              "  border: 1.5px solid black;\n",
              "}\n",
              "#T_69913_row0_col0, #T_69913_row1_col0, #T_69913_row2_col0, #T_69913_row3_col0, #T_69913_row4_col0, #T_69913_row5_col0 {\n",
              "  width: 80px;\n",
              "}\n",
              "#T_69913_row0_col1, #T_69913_row1_col1, #T_69913_row5_col1 {\n",
              "  background-color: pink;\n",
              "  width: 80px;\n",
              "}\n",
              "#T_69913_row2_col1, #T_69913_row3_col1, #T_69913_row4_col1 {\n",
              "  background-color: lightgreen;\n",
              "  width: 80px;\n",
              "}\n",
              "</style>\n",
              "<table id=\"T_69913\" class=\"dataframe\">\n",
              "  <thead>\n",
              "    <tr>\n",
              "      <th class=\"blank level0\" >&nbsp;</th>\n",
              "      <th id=\"T_69913_level0_col0\" class=\"col_heading level0 col0\" >windy</th>\n",
              "      <th id=\"T_69913_level0_col1\" class=\"col_heading level0 col1\" >play</th>\n",
              "    </tr>\n",
              "  </thead>\n",
              "  <tbody>\n",
              "    <tr>\n",
              "      <th id=\"T_69913_level0_row0\" class=\"row_heading level0 row0\" >1</th>\n",
              "      <td id=\"T_69913_row0_col0\" class=\"data row0 col0\" >True</td>\n",
              "      <td id=\"T_69913_row0_col1\" class=\"data row0 col1\" >no</td>\n",
              "    </tr>\n",
              "    <tr>\n",
              "      <th id=\"T_69913_level0_row1\" class=\"row_heading level0 row1\" >5</th>\n",
              "      <td id=\"T_69913_row1_col0\" class=\"data row1 col0\" >True</td>\n",
              "      <td id=\"T_69913_row1_col1\" class=\"data row1 col1\" >no</td>\n",
              "    </tr>\n",
              "    <tr>\n",
              "      <th id=\"T_69913_level0_row2\" class=\"row_heading level0 row2\" >6</th>\n",
              "      <td id=\"T_69913_row2_col0\" class=\"data row2 col0\" >True</td>\n",
              "      <td id=\"T_69913_row2_col1\" class=\"data row2 col1\" >yes</td>\n",
              "    </tr>\n",
              "    <tr>\n",
              "      <th id=\"T_69913_level0_row3\" class=\"row_heading level0 row3\" >10</th>\n",
              "      <td id=\"T_69913_row3_col0\" class=\"data row3 col0\" >True</td>\n",
              "      <td id=\"T_69913_row3_col1\" class=\"data row3 col1\" >yes</td>\n",
              "    </tr>\n",
              "    <tr>\n",
              "      <th id=\"T_69913_level0_row4\" class=\"row_heading level0 row4\" >11</th>\n",
              "      <td id=\"T_69913_row4_col0\" class=\"data row4 col0\" >True</td>\n",
              "      <td id=\"T_69913_row4_col1\" class=\"data row4 col1\" >yes</td>\n",
              "    </tr>\n",
              "    <tr>\n",
              "      <th id=\"T_69913_level0_row5\" class=\"row_heading level0 row5\" >13</th>\n",
              "      <td id=\"T_69913_row5_col0\" class=\"data row5 col0\" >True</td>\n",
              "      <td id=\"T_69913_row5_col1\" class=\"data row5 col1\" >no</td>\n",
              "    </tr>\n",
              "  </tbody>\n",
              "</table>\n"
            ]
          },
          "metadata": {}
        },
        {
          "output_type": "stream",
          "name": "stdout",
          "text": [
            "Entropy of windy - True = 1.0\n",
            "Information Gain for windy = 0.048\n"
          ]
        }
      ]
    },
    {
      "cell_type": "markdown",
      "source": [
        "#Rainy -outlook"
      ],
      "metadata": {
        "id": "1PWoQeMAgW86"
      }
    },
    {
      "cell_type": "code",
      "source": [
        "rainy = data[data['outlook'] == 'rainy']\n",
        "rainy.style.applymap(highlight)\\\n",
        "    .set_properties(subset=data.columns, **{'width': '100px'})\\\n",
        "    .set_table_styles([{'selector': 'th', 'props': [('background-color', 'lightgray'), ('border', '1px solid gray'),\n",
        "                                                    ('font-weight', 'bold')]},\n",
        "     {'selector': 'tr:hover', 'props': [('background-color', 'white'), ('border', '1.5px solid black')]}])"
      ],
      "metadata": {
        "colab": {
          "base_uri": "https://localhost:8080/",
          "height": 212
        },
        "id": "zRt8znhhgbF0",
        "outputId": "dd1f81f9-f38c-4b8d-95cd-9bc1f427319a"
      },
      "execution_count": 9,
      "outputs": [
        {
          "output_type": "execute_result",
          "data": {
            "text/plain": [
              "<pandas.io.formats.style.Styler at 0x7f773cd15b10>"
            ],
            "text/html": [
              "<style type=\"text/css\">\n",
              "#T_48c60 th {\n",
              "  background-color: lightgray;\n",
              "  border: 1px solid gray;\n",
              "  font-weight: bold;\n",
              "}\n",
              "#T_48c60 tr:hover {\n",
              "  background-color: white;\n",
              "  border: 1.5px solid black;\n",
              "}\n",
              "#T_48c60_row0_col0, #T_48c60_row0_col1, #T_48c60_row0_col2, #T_48c60_row0_col3, #T_48c60_row1_col0, #T_48c60_row1_col1, #T_48c60_row1_col2, #T_48c60_row1_col3, #T_48c60_row2_col0, #T_48c60_row2_col1, #T_48c60_row2_col2, #T_48c60_row2_col3, #T_48c60_row3_col0, #T_48c60_row3_col1, #T_48c60_row3_col2, #T_48c60_row3_col3, #T_48c60_row4_col0, #T_48c60_row4_col1, #T_48c60_row4_col2, #T_48c60_row4_col3 {\n",
              "  width: 100px;\n",
              "}\n",
              "#T_48c60_row0_col4, #T_48c60_row1_col4, #T_48c60_row3_col4 {\n",
              "  background-color: lightgreen;\n",
              "  width: 100px;\n",
              "}\n",
              "#T_48c60_row2_col4, #T_48c60_row4_col4 {\n",
              "  background-color: pink;\n",
              "  width: 100px;\n",
              "}\n",
              "</style>\n",
              "<table id=\"T_48c60\" class=\"dataframe\">\n",
              "  <thead>\n",
              "    <tr>\n",
              "      <th class=\"blank level0\" >&nbsp;</th>\n",
              "      <th id=\"T_48c60_level0_col0\" class=\"col_heading level0 col0\" >outlook</th>\n",
              "      <th id=\"T_48c60_level0_col1\" class=\"col_heading level0 col1\" >temp</th>\n",
              "      <th id=\"T_48c60_level0_col2\" class=\"col_heading level0 col2\" >humidity</th>\n",
              "      <th id=\"T_48c60_level0_col3\" class=\"col_heading level0 col3\" >windy</th>\n",
              "      <th id=\"T_48c60_level0_col4\" class=\"col_heading level0 col4\" >play</th>\n",
              "    </tr>\n",
              "  </thead>\n",
              "  <tbody>\n",
              "    <tr>\n",
              "      <th id=\"T_48c60_level0_row0\" class=\"row_heading level0 row0\" >3</th>\n",
              "      <td id=\"T_48c60_row0_col0\" class=\"data row0 col0\" >rainy</td>\n",
              "      <td id=\"T_48c60_row0_col1\" class=\"data row0 col1\" >mild</td>\n",
              "      <td id=\"T_48c60_row0_col2\" class=\"data row0 col2\" >high</td>\n",
              "      <td id=\"T_48c60_row0_col3\" class=\"data row0 col3\" >False</td>\n",
              "      <td id=\"T_48c60_row0_col4\" class=\"data row0 col4\" >yes</td>\n",
              "    </tr>\n",
              "    <tr>\n",
              "      <th id=\"T_48c60_level0_row1\" class=\"row_heading level0 row1\" >4</th>\n",
              "      <td id=\"T_48c60_row1_col0\" class=\"data row1 col0\" >rainy</td>\n",
              "      <td id=\"T_48c60_row1_col1\" class=\"data row1 col1\" >cool</td>\n",
              "      <td id=\"T_48c60_row1_col2\" class=\"data row1 col2\" >normal</td>\n",
              "      <td id=\"T_48c60_row1_col3\" class=\"data row1 col3\" >False</td>\n",
              "      <td id=\"T_48c60_row1_col4\" class=\"data row1 col4\" >yes</td>\n",
              "    </tr>\n",
              "    <tr>\n",
              "      <th id=\"T_48c60_level0_row2\" class=\"row_heading level0 row2\" >5</th>\n",
              "      <td id=\"T_48c60_row2_col0\" class=\"data row2 col0\" >rainy</td>\n",
              "      <td id=\"T_48c60_row2_col1\" class=\"data row2 col1\" >cool</td>\n",
              "      <td id=\"T_48c60_row2_col2\" class=\"data row2 col2\" >normal</td>\n",
              "      <td id=\"T_48c60_row2_col3\" class=\"data row2 col3\" >True</td>\n",
              "      <td id=\"T_48c60_row2_col4\" class=\"data row2 col4\" >no</td>\n",
              "    </tr>\n",
              "    <tr>\n",
              "      <th id=\"T_48c60_level0_row3\" class=\"row_heading level0 row3\" >9</th>\n",
              "      <td id=\"T_48c60_row3_col0\" class=\"data row3 col0\" >rainy</td>\n",
              "      <td id=\"T_48c60_row3_col1\" class=\"data row3 col1\" >mild</td>\n",
              "      <td id=\"T_48c60_row3_col2\" class=\"data row3 col2\" >normal</td>\n",
              "      <td id=\"T_48c60_row3_col3\" class=\"data row3 col3\" >False</td>\n",
              "      <td id=\"T_48c60_row3_col4\" class=\"data row3 col4\" >yes</td>\n",
              "    </tr>\n",
              "    <tr>\n",
              "      <th id=\"T_48c60_level0_row4\" class=\"row_heading level0 row4\" >13</th>\n",
              "      <td id=\"T_48c60_row4_col0\" class=\"data row4 col0\" >rainy</td>\n",
              "      <td id=\"T_48c60_row4_col1\" class=\"data row4 col1\" >mild</td>\n",
              "      <td id=\"T_48c60_row4_col2\" class=\"data row4 col2\" >high</td>\n",
              "      <td id=\"T_48c60_row4_col3\" class=\"data row4 col3\" >True</td>\n",
              "      <td id=\"T_48c60_row4_col4\" class=\"data row4 col4\" >no</td>\n",
              "    </tr>\n",
              "  </tbody>\n",
              "</table>\n"
            ]
          },
          "metadata": {},
          "execution_count": 9
        }
      ]
    },
    {
      "cell_type": "code",
      "source": [
        "print(f'Entropy of the Rainy dataset: {find_entropy(rainy.play)}')"
      ],
      "metadata": {
        "colab": {
          "base_uri": "https://localhost:8080/"
        },
        "id": "SPP1lhBogeAz",
        "outputId": "d99ed76e-dcc0-40fa-d42c-39ba0df4d3b6"
      },
      "execution_count": 10,
      "outputs": [
        {
          "output_type": "stream",
          "name": "stdout",
          "text": [
            "Entropy of the Rainy dataset: 0.971\n"
          ]
        }
      ]
    },
    {
      "cell_type": "code",
      "source": [
        "entropy_and_infogain(rainy, 'temp')"
      ],
      "metadata": {
        "colab": {
          "base_uri": "https://localhost:8080/",
          "height": 298
        },
        "id": "42KZ8t34grri",
        "outputId": "d60d1566-c5c2-408c-b72d-90e67203c109"
      },
      "execution_count": 11,
      "outputs": [
        {
          "output_type": "display_data",
          "data": {
            "text/plain": [
              "<pandas.io.formats.style.Styler at 0x7f773cd14ac0>"
            ],
            "text/html": [
              "<style type=\"text/css\">\n",
              "#T_dc287 th {\n",
              "  background-color: lightgray;\n",
              "  border: 1px solid gray;\n",
              "  font-weight: bold;\n",
              "}\n",
              "#T_dc287 td {\n",
              "  border: 1px solid gray;\n",
              "}\n",
              "#T_dc287 tr:hover {\n",
              "  background-color: white;\n",
              "  border: 1.5px solid black;\n",
              "}\n",
              "#T_dc287_row0_col0, #T_dc287_row1_col0, #T_dc287_row2_col0 {\n",
              "  width: 80px;\n",
              "}\n",
              "#T_dc287_row0_col1, #T_dc287_row1_col1 {\n",
              "  background-color: lightgreen;\n",
              "  width: 80px;\n",
              "}\n",
              "#T_dc287_row2_col1 {\n",
              "  background-color: pink;\n",
              "  width: 80px;\n",
              "}\n",
              "</style>\n",
              "<table id=\"T_dc287\" class=\"dataframe\">\n",
              "  <thead>\n",
              "    <tr>\n",
              "      <th class=\"blank level0\" >&nbsp;</th>\n",
              "      <th id=\"T_dc287_level0_col0\" class=\"col_heading level0 col0\" >temp</th>\n",
              "      <th id=\"T_dc287_level0_col1\" class=\"col_heading level0 col1\" >play</th>\n",
              "    </tr>\n",
              "  </thead>\n",
              "  <tbody>\n",
              "    <tr>\n",
              "      <th id=\"T_dc287_level0_row0\" class=\"row_heading level0 row0\" >3</th>\n",
              "      <td id=\"T_dc287_row0_col0\" class=\"data row0 col0\" >mild</td>\n",
              "      <td id=\"T_dc287_row0_col1\" class=\"data row0 col1\" >yes</td>\n",
              "    </tr>\n",
              "    <tr>\n",
              "      <th id=\"T_dc287_level0_row1\" class=\"row_heading level0 row1\" >9</th>\n",
              "      <td id=\"T_dc287_row1_col0\" class=\"data row1 col0\" >mild</td>\n",
              "      <td id=\"T_dc287_row1_col1\" class=\"data row1 col1\" >yes</td>\n",
              "    </tr>\n",
              "    <tr>\n",
              "      <th id=\"T_dc287_level0_row2\" class=\"row_heading level0 row2\" >13</th>\n",
              "      <td id=\"T_dc287_row2_col0\" class=\"data row2 col0\" >mild</td>\n",
              "      <td id=\"T_dc287_row2_col1\" class=\"data row2 col1\" >no</td>\n",
              "    </tr>\n",
              "  </tbody>\n",
              "</table>\n"
            ]
          },
          "metadata": {}
        },
        {
          "output_type": "stream",
          "name": "stdout",
          "text": [
            "Entropy of temp - mild = 0.918\n"
          ]
        },
        {
          "output_type": "display_data",
          "data": {
            "text/plain": [
              "<pandas.io.formats.style.Styler at 0x7f773cd14ac0>"
            ],
            "text/html": [
              "<style type=\"text/css\">\n",
              "#T_c455a th {\n",
              "  background-color: lightgray;\n",
              "  border: 1px solid gray;\n",
              "  font-weight: bold;\n",
              "}\n",
              "#T_c455a td {\n",
              "  border: 1px solid gray;\n",
              "}\n",
              "#T_c455a tr:hover {\n",
              "  background-color: white;\n",
              "  border: 1.5px solid black;\n",
              "}\n",
              "#T_c455a_row0_col0, #T_c455a_row1_col0 {\n",
              "  width: 80px;\n",
              "}\n",
              "#T_c455a_row0_col1 {\n",
              "  background-color: lightgreen;\n",
              "  width: 80px;\n",
              "}\n",
              "#T_c455a_row1_col1 {\n",
              "  background-color: pink;\n",
              "  width: 80px;\n",
              "}\n",
              "</style>\n",
              "<table id=\"T_c455a\" class=\"dataframe\">\n",
              "  <thead>\n",
              "    <tr>\n",
              "      <th class=\"blank level0\" >&nbsp;</th>\n",
              "      <th id=\"T_c455a_level0_col0\" class=\"col_heading level0 col0\" >temp</th>\n",
              "      <th id=\"T_c455a_level0_col1\" class=\"col_heading level0 col1\" >play</th>\n",
              "    </tr>\n",
              "  </thead>\n",
              "  <tbody>\n",
              "    <tr>\n",
              "      <th id=\"T_c455a_level0_row0\" class=\"row_heading level0 row0\" >4</th>\n",
              "      <td id=\"T_c455a_row0_col0\" class=\"data row0 col0\" >cool</td>\n",
              "      <td id=\"T_c455a_row0_col1\" class=\"data row0 col1\" >yes</td>\n",
              "    </tr>\n",
              "    <tr>\n",
              "      <th id=\"T_c455a_level0_row1\" class=\"row_heading level0 row1\" >5</th>\n",
              "      <td id=\"T_c455a_row1_col0\" class=\"data row1 col0\" >cool</td>\n",
              "      <td id=\"T_c455a_row1_col1\" class=\"data row1 col1\" >no</td>\n",
              "    </tr>\n",
              "  </tbody>\n",
              "</table>\n"
            ]
          },
          "metadata": {}
        },
        {
          "output_type": "stream",
          "name": "stdout",
          "text": [
            "Entropy of temp - cool = 1.0\n",
            "Information Gain for temp = 0.02\n"
          ]
        }
      ]
    },
    {
      "cell_type": "code",
      "source": [
        "entropy_and_infogain(rainy, 'humidity')"
      ],
      "metadata": {
        "colab": {
          "base_uri": "https://localhost:8080/",
          "height": 298
        },
        "id": "u_FoZ9uig0zD",
        "outputId": "4efbf9e9-d3db-4b82-eac9-6d554a14e072"
      },
      "execution_count": 12,
      "outputs": [
        {
          "output_type": "display_data",
          "data": {
            "text/plain": [
              "<pandas.io.formats.style.Styler at 0x7f773cd16200>"
            ],
            "text/html": [
              "<style type=\"text/css\">\n",
              "#T_5d10e th {\n",
              "  background-color: lightgray;\n",
              "  border: 1px solid gray;\n",
              "  font-weight: bold;\n",
              "}\n",
              "#T_5d10e td {\n",
              "  border: 1px solid gray;\n",
              "}\n",
              "#T_5d10e tr:hover {\n",
              "  background-color: white;\n",
              "  border: 1.5px solid black;\n",
              "}\n",
              "#T_5d10e_row0_col0, #T_5d10e_row1_col0 {\n",
              "  width: 80px;\n",
              "}\n",
              "#T_5d10e_row0_col1 {\n",
              "  background-color: lightgreen;\n",
              "  width: 80px;\n",
              "}\n",
              "#T_5d10e_row1_col1 {\n",
              "  background-color: pink;\n",
              "  width: 80px;\n",
              "}\n",
              "</style>\n",
              "<table id=\"T_5d10e\" class=\"dataframe\">\n",
              "  <thead>\n",
              "    <tr>\n",
              "      <th class=\"blank level0\" >&nbsp;</th>\n",
              "      <th id=\"T_5d10e_level0_col0\" class=\"col_heading level0 col0\" >humidity</th>\n",
              "      <th id=\"T_5d10e_level0_col1\" class=\"col_heading level0 col1\" >play</th>\n",
              "    </tr>\n",
              "  </thead>\n",
              "  <tbody>\n",
              "    <tr>\n",
              "      <th id=\"T_5d10e_level0_row0\" class=\"row_heading level0 row0\" >3</th>\n",
              "      <td id=\"T_5d10e_row0_col0\" class=\"data row0 col0\" >high</td>\n",
              "      <td id=\"T_5d10e_row0_col1\" class=\"data row0 col1\" >yes</td>\n",
              "    </tr>\n",
              "    <tr>\n",
              "      <th id=\"T_5d10e_level0_row1\" class=\"row_heading level0 row1\" >13</th>\n",
              "      <td id=\"T_5d10e_row1_col0\" class=\"data row1 col0\" >high</td>\n",
              "      <td id=\"T_5d10e_row1_col1\" class=\"data row1 col1\" >no</td>\n",
              "    </tr>\n",
              "  </tbody>\n",
              "</table>\n"
            ]
          },
          "metadata": {}
        },
        {
          "output_type": "stream",
          "name": "stdout",
          "text": [
            "Entropy of humidity - high = 1.0\n"
          ]
        },
        {
          "output_type": "display_data",
          "data": {
            "text/plain": [
              "<pandas.io.formats.style.Styler at 0x7f773cd170a0>"
            ],
            "text/html": [
              "<style type=\"text/css\">\n",
              "#T_266bc th {\n",
              "  background-color: lightgray;\n",
              "  border: 1px solid gray;\n",
              "  font-weight: bold;\n",
              "}\n",
              "#T_266bc td {\n",
              "  border: 1px solid gray;\n",
              "}\n",
              "#T_266bc tr:hover {\n",
              "  background-color: white;\n",
              "  border: 1.5px solid black;\n",
              "}\n",
              "#T_266bc_row0_col0, #T_266bc_row1_col0, #T_266bc_row2_col0 {\n",
              "  width: 80px;\n",
              "}\n",
              "#T_266bc_row0_col1, #T_266bc_row2_col1 {\n",
              "  background-color: lightgreen;\n",
              "  width: 80px;\n",
              "}\n",
              "#T_266bc_row1_col1 {\n",
              "  background-color: pink;\n",
              "  width: 80px;\n",
              "}\n",
              "</style>\n",
              "<table id=\"T_266bc\" class=\"dataframe\">\n",
              "  <thead>\n",
              "    <tr>\n",
              "      <th class=\"blank level0\" >&nbsp;</th>\n",
              "      <th id=\"T_266bc_level0_col0\" class=\"col_heading level0 col0\" >humidity</th>\n",
              "      <th id=\"T_266bc_level0_col1\" class=\"col_heading level0 col1\" >play</th>\n",
              "    </tr>\n",
              "  </thead>\n",
              "  <tbody>\n",
              "    <tr>\n",
              "      <th id=\"T_266bc_level0_row0\" class=\"row_heading level0 row0\" >4</th>\n",
              "      <td id=\"T_266bc_row0_col0\" class=\"data row0 col0\" >normal</td>\n",
              "      <td id=\"T_266bc_row0_col1\" class=\"data row0 col1\" >yes</td>\n",
              "    </tr>\n",
              "    <tr>\n",
              "      <th id=\"T_266bc_level0_row1\" class=\"row_heading level0 row1\" >5</th>\n",
              "      <td id=\"T_266bc_row1_col0\" class=\"data row1 col0\" >normal</td>\n",
              "      <td id=\"T_266bc_row1_col1\" class=\"data row1 col1\" >no</td>\n",
              "    </tr>\n",
              "    <tr>\n",
              "      <th id=\"T_266bc_level0_row2\" class=\"row_heading level0 row2\" >9</th>\n",
              "      <td id=\"T_266bc_row2_col0\" class=\"data row2 col0\" >normal</td>\n",
              "      <td id=\"T_266bc_row2_col1\" class=\"data row2 col1\" >yes</td>\n",
              "    </tr>\n",
              "  </tbody>\n",
              "</table>\n"
            ]
          },
          "metadata": {}
        },
        {
          "output_type": "stream",
          "name": "stdout",
          "text": [
            "Entropy of humidity - normal = 0.918\n",
            "Information Gain for humidity = 0.02\n"
          ]
        }
      ]
    },
    {
      "cell_type": "code",
      "source": [
        "entropy_and_infogain(rainy, 'windy')"
      ],
      "metadata": {
        "colab": {
          "base_uri": "https://localhost:8080/",
          "height": 298
        },
        "id": "i1gPW09eg0ub",
        "outputId": "d5eb6cd4-ccc1-4f04-9c76-fc9ba1a80535"
      },
      "execution_count": 13,
      "outputs": [
        {
          "output_type": "display_data",
          "data": {
            "text/plain": [
              "<pandas.io.formats.style.Styler at 0x7f773cd17bb0>"
            ],
            "text/html": [
              "<style type=\"text/css\">\n",
              "#T_d88af th {\n",
              "  background-color: lightgray;\n",
              "  border: 1px solid gray;\n",
              "  font-weight: bold;\n",
              "}\n",
              "#T_d88af td {\n",
              "  border: 1px solid gray;\n",
              "}\n",
              "#T_d88af tr:hover {\n",
              "  background-color: white;\n",
              "  border: 1.5px solid black;\n",
              "}\n",
              "#T_d88af_row0_col0, #T_d88af_row1_col0, #T_d88af_row2_col0 {\n",
              "  width: 80px;\n",
              "}\n",
              "#T_d88af_row0_col1, #T_d88af_row1_col1, #T_d88af_row2_col1 {\n",
              "  background-color: lightgreen;\n",
              "  width: 80px;\n",
              "}\n",
              "</style>\n",
              "<table id=\"T_d88af\" class=\"dataframe\">\n",
              "  <thead>\n",
              "    <tr>\n",
              "      <th class=\"blank level0\" >&nbsp;</th>\n",
              "      <th id=\"T_d88af_level0_col0\" class=\"col_heading level0 col0\" >windy</th>\n",
              "      <th id=\"T_d88af_level0_col1\" class=\"col_heading level0 col1\" >play</th>\n",
              "    </tr>\n",
              "  </thead>\n",
              "  <tbody>\n",
              "    <tr>\n",
              "      <th id=\"T_d88af_level0_row0\" class=\"row_heading level0 row0\" >3</th>\n",
              "      <td id=\"T_d88af_row0_col0\" class=\"data row0 col0\" >False</td>\n",
              "      <td id=\"T_d88af_row0_col1\" class=\"data row0 col1\" >yes</td>\n",
              "    </tr>\n",
              "    <tr>\n",
              "      <th id=\"T_d88af_level0_row1\" class=\"row_heading level0 row1\" >4</th>\n",
              "      <td id=\"T_d88af_row1_col0\" class=\"data row1 col0\" >False</td>\n",
              "      <td id=\"T_d88af_row1_col1\" class=\"data row1 col1\" >yes</td>\n",
              "    </tr>\n",
              "    <tr>\n",
              "      <th id=\"T_d88af_level0_row2\" class=\"row_heading level0 row2\" >9</th>\n",
              "      <td id=\"T_d88af_row2_col0\" class=\"data row2 col0\" >False</td>\n",
              "      <td id=\"T_d88af_row2_col1\" class=\"data row2 col1\" >yes</td>\n",
              "    </tr>\n",
              "  </tbody>\n",
              "</table>\n"
            ]
          },
          "metadata": {}
        },
        {
          "output_type": "stream",
          "name": "stdout",
          "text": [
            "Entropy of windy - False = 0.0\n"
          ]
        },
        {
          "output_type": "display_data",
          "data": {
            "text/plain": [
              "<pandas.io.formats.style.Styler at 0x7f773cd174c0>"
            ],
            "text/html": [
              "<style type=\"text/css\">\n",
              "#T_c1625 th {\n",
              "  background-color: lightgray;\n",
              "  border: 1px solid gray;\n",
              "  font-weight: bold;\n",
              "}\n",
              "#T_c1625 td {\n",
              "  border: 1px solid gray;\n",
              "}\n",
              "#T_c1625 tr:hover {\n",
              "  background-color: white;\n",
              "  border: 1.5px solid black;\n",
              "}\n",
              "#T_c1625_row0_col0, #T_c1625_row1_col0 {\n",
              "  width: 80px;\n",
              "}\n",
              "#T_c1625_row0_col1, #T_c1625_row1_col1 {\n",
              "  background-color: pink;\n",
              "  width: 80px;\n",
              "}\n",
              "</style>\n",
              "<table id=\"T_c1625\" class=\"dataframe\">\n",
              "  <thead>\n",
              "    <tr>\n",
              "      <th class=\"blank level0\" >&nbsp;</th>\n",
              "      <th id=\"T_c1625_level0_col0\" class=\"col_heading level0 col0\" >windy</th>\n",
              "      <th id=\"T_c1625_level0_col1\" class=\"col_heading level0 col1\" >play</th>\n",
              "    </tr>\n",
              "  </thead>\n",
              "  <tbody>\n",
              "    <tr>\n",
              "      <th id=\"T_c1625_level0_row0\" class=\"row_heading level0 row0\" >5</th>\n",
              "      <td id=\"T_c1625_row0_col0\" class=\"data row0 col0\" >True</td>\n",
              "      <td id=\"T_c1625_row0_col1\" class=\"data row0 col1\" >no</td>\n",
              "    </tr>\n",
              "    <tr>\n",
              "      <th id=\"T_c1625_level0_row1\" class=\"row_heading level0 row1\" >13</th>\n",
              "      <td id=\"T_c1625_row1_col0\" class=\"data row1 col0\" >True</td>\n",
              "      <td id=\"T_c1625_row1_col1\" class=\"data row1 col1\" >no</td>\n",
              "    </tr>\n",
              "  </tbody>\n",
              "</table>\n"
            ]
          },
          "metadata": {}
        },
        {
          "output_type": "stream",
          "name": "stdout",
          "text": [
            "Entropy of windy - True = 0.0\n",
            "Information Gain for windy = 0.971\n"
          ]
        }
      ]
    },
    {
      "cell_type": "markdown",
      "source": [
        "## wind has highest information gain"
      ],
      "metadata": {
        "id": "3IMmw847gaPc"
      }
    }
  ]
}
