{
  "nbformat": 4,
  "nbformat_minor": 0,
  "metadata": {
    "colab": {
      "provenance": []
    },
    "kernelspec": {
      "name": "python3",
      "display_name": "Python 3"
    },
    "language_info": {
      "name": "python"
    }
  },
  "cells": [
    {
      "cell_type": "code",
      "execution_count": 1,
      "metadata": {
        "id": "kvUq7-vPG7e6"
      },
      "outputs": [],
      "source": [
        "import numpy as np # linear algebra\n",
        "import pandas as pd # data processing, CSV file I/O (e.g. pd.read_csv)\n",
        "import matplotlib.pyplot as plt # for data visualization purposes\n",
        "import seaborn as sns # for data visualization\n",
        "%matplotlib inline"
      ]
    },
    {
      "cell_type": "code",
      "source": [
        "data = '/content/cancer_detector.txt'\n",
        "df = pd.read_csv(data, header=None)"
      ],
      "metadata": {
        "id": "Lb9dwznNHMxS"
      },
      "execution_count": 2,
      "outputs": []
    },
    {
      "cell_type": "code",
      "source": [
        "df.shape\n"
      ],
      "metadata": {
        "colab": {
          "base_uri": "https://localhost:8080/"
        },
        "id": "prMHPyMBHZLh",
        "outputId": "160b8a5a-398e-49cf-ecd3-d5518aef5652"
      },
      "execution_count": 3,
      "outputs": [
        {
          "output_type": "execute_result",
          "data": {
            "text/plain": [
              "(699, 11)"
            ]
          },
          "metadata": {},
          "execution_count": 3
        }
      ]
    },
    {
      "cell_type": "code",
      "source": [
        "col_names = ['Id', 'Clump_thickness', 'Uniformity_Cell_Size', 'Uniformity_Cell_Shape', 'Marginal_Adhesion',\n",
        "             'Single_Epithelial_Cell_Size', 'Bare_Nuclei', 'Bland_Chromatin', 'Normal_Nucleoli', 'Mitoses', 'Class']\n",
        "\n",
        "df.columns = col_names\n",
        "\n",
        "df.columns"
      ],
      "metadata": {
        "colab": {
          "base_uri": "https://localhost:8080/"
        },
        "id": "A3497VQ-Hc7J",
        "outputId": "58ca289f-1027-476e-e20f-3bb551b3deb2"
      },
      "execution_count": 4,
      "outputs": [
        {
          "output_type": "execute_result",
          "data": {
            "text/plain": [
              "Index(['Id', 'Clump_thickness', 'Uniformity_Cell_Size',\n",
              "       'Uniformity_Cell_Shape', 'Marginal_Adhesion',\n",
              "       'Single_Epithelial_Cell_Size', 'Bare_Nuclei', 'Bland_Chromatin',\n",
              "       'Normal_Nucleoli', 'Mitoses', 'Class'],\n",
              "      dtype='object')"
            ]
          },
          "metadata": {},
          "execution_count": 4
        }
      ]
    },
    {
      "cell_type": "code",
      "source": [
        "df.head()"
      ],
      "metadata": {
        "colab": {
          "base_uri": "https://localhost:8080/",
          "height": 226
        },
        "id": "cD2T7zlxHfw3",
        "outputId": "1e4a0611-ef3b-414d-9260-60991d8b28e8"
      },
      "execution_count": 5,
      "outputs": [
        {
          "output_type": "execute_result",
          "data": {
            "text/plain": [
              "        Id  Clump_thickness  Uniformity_Cell_Size  Uniformity_Cell_Shape  \\\n",
              "0  1000025                5                     1                      1   \n",
              "1  1002945                5                     4                      4   \n",
              "2  1015425                3                     1                      1   \n",
              "3  1016277                6                     8                      8   \n",
              "4  1017023                4                     1                      1   \n",
              "\n",
              "   Marginal_Adhesion  Single_Epithelial_Cell_Size Bare_Nuclei  \\\n",
              "0                  1                            2           1   \n",
              "1                  5                            7          10   \n",
              "2                  1                            2           2   \n",
              "3                  1                            3           4   \n",
              "4                  3                            2           1   \n",
              "\n",
              "   Bland_Chromatin  Normal_Nucleoli  Mitoses  Class  \n",
              "0                3                1        1      2  \n",
              "1                3                2        1      2  \n",
              "2                3                1        1      2  \n",
              "3                3                7        1      2  \n",
              "4                3                1        1      2  "
            ],
            "text/html": [
              "\n",
              "  <div id=\"df-1ad45096-4733-4901-a8da-fa5f5b856479\" class=\"colab-df-container\">\n",
              "    <div>\n",
              "<style scoped>\n",
              "    .dataframe tbody tr th:only-of-type {\n",
              "        vertical-align: middle;\n",
              "    }\n",
              "\n",
              "    .dataframe tbody tr th {\n",
              "        vertical-align: top;\n",
              "    }\n",
              "\n",
              "    .dataframe thead th {\n",
              "        text-align: right;\n",
              "    }\n",
              "</style>\n",
              "<table border=\"1\" class=\"dataframe\">\n",
              "  <thead>\n",
              "    <tr style=\"text-align: right;\">\n",
              "      <th></th>\n",
              "      <th>Id</th>\n",
              "      <th>Clump_thickness</th>\n",
              "      <th>Uniformity_Cell_Size</th>\n",
              "      <th>Uniformity_Cell_Shape</th>\n",
              "      <th>Marginal_Adhesion</th>\n",
              "      <th>Single_Epithelial_Cell_Size</th>\n",
              "      <th>Bare_Nuclei</th>\n",
              "      <th>Bland_Chromatin</th>\n",
              "      <th>Normal_Nucleoli</th>\n",
              "      <th>Mitoses</th>\n",
              "      <th>Class</th>\n",
              "    </tr>\n",
              "  </thead>\n",
              "  <tbody>\n",
              "    <tr>\n",
              "      <th>0</th>\n",
              "      <td>1000025</td>\n",
              "      <td>5</td>\n",
              "      <td>1</td>\n",
              "      <td>1</td>\n",
              "      <td>1</td>\n",
              "      <td>2</td>\n",
              "      <td>1</td>\n",
              "      <td>3</td>\n",
              "      <td>1</td>\n",
              "      <td>1</td>\n",
              "      <td>2</td>\n",
              "    </tr>\n",
              "    <tr>\n",
              "      <th>1</th>\n",
              "      <td>1002945</td>\n",
              "      <td>5</td>\n",
              "      <td>4</td>\n",
              "      <td>4</td>\n",
              "      <td>5</td>\n",
              "      <td>7</td>\n",
              "      <td>10</td>\n",
              "      <td>3</td>\n",
              "      <td>2</td>\n",
              "      <td>1</td>\n",
              "      <td>2</td>\n",
              "    </tr>\n",
              "    <tr>\n",
              "      <th>2</th>\n",
              "      <td>1015425</td>\n",
              "      <td>3</td>\n",
              "      <td>1</td>\n",
              "      <td>1</td>\n",
              "      <td>1</td>\n",
              "      <td>2</td>\n",
              "      <td>2</td>\n",
              "      <td>3</td>\n",
              "      <td>1</td>\n",
              "      <td>1</td>\n",
              "      <td>2</td>\n",
              "    </tr>\n",
              "    <tr>\n",
              "      <th>3</th>\n",
              "      <td>1016277</td>\n",
              "      <td>6</td>\n",
              "      <td>8</td>\n",
              "      <td>8</td>\n",
              "      <td>1</td>\n",
              "      <td>3</td>\n",
              "      <td>4</td>\n",
              "      <td>3</td>\n",
              "      <td>7</td>\n",
              "      <td>1</td>\n",
              "      <td>2</td>\n",
              "    </tr>\n",
              "    <tr>\n",
              "      <th>4</th>\n",
              "      <td>1017023</td>\n",
              "      <td>4</td>\n",
              "      <td>1</td>\n",
              "      <td>1</td>\n",
              "      <td>3</td>\n",
              "      <td>2</td>\n",
              "      <td>1</td>\n",
              "      <td>3</td>\n",
              "      <td>1</td>\n",
              "      <td>1</td>\n",
              "      <td>2</td>\n",
              "    </tr>\n",
              "  </tbody>\n",
              "</table>\n",
              "</div>\n",
              "    <div class=\"colab-df-buttons\">\n",
              "\n",
              "  <div class=\"colab-df-container\">\n",
              "    <button class=\"colab-df-convert\" onclick=\"convertToInteractive('df-1ad45096-4733-4901-a8da-fa5f5b856479')\"\n",
              "            title=\"Convert this dataframe to an interactive table.\"\n",
              "            style=\"display:none;\">\n",
              "\n",
              "  <svg xmlns=\"http://www.w3.org/2000/svg\" height=\"24px\" viewBox=\"0 -960 960 960\">\n",
              "    <path d=\"M120-120v-720h720v720H120Zm60-500h600v-160H180v160Zm220 220h160v-160H400v160Zm0 220h160v-160H400v160ZM180-400h160v-160H180v160Zm440 0h160v-160H620v160ZM180-180h160v-160H180v160Zm440 0h160v-160H620v160Z\"/>\n",
              "  </svg>\n",
              "    </button>\n",
              "\n",
              "  <style>\n",
              "    .colab-df-container {\n",
              "      display:flex;\n",
              "      gap: 12px;\n",
              "    }\n",
              "\n",
              "    .colab-df-convert {\n",
              "      background-color: #E8F0FE;\n",
              "      border: none;\n",
              "      border-radius: 50%;\n",
              "      cursor: pointer;\n",
              "      display: none;\n",
              "      fill: #1967D2;\n",
              "      height: 32px;\n",
              "      padding: 0 0 0 0;\n",
              "      width: 32px;\n",
              "    }\n",
              "\n",
              "    .colab-df-convert:hover {\n",
              "      background-color: #E2EBFA;\n",
              "      box-shadow: 0px 1px 2px rgba(60, 64, 67, 0.3), 0px 1px 3px 1px rgba(60, 64, 67, 0.15);\n",
              "      fill: #174EA6;\n",
              "    }\n",
              "\n",
              "    .colab-df-buttons div {\n",
              "      margin-bottom: 4px;\n",
              "    }\n",
              "\n",
              "    [theme=dark] .colab-df-convert {\n",
              "      background-color: #3B4455;\n",
              "      fill: #D2E3FC;\n",
              "    }\n",
              "\n",
              "    [theme=dark] .colab-df-convert:hover {\n",
              "      background-color: #434B5C;\n",
              "      box-shadow: 0px 1px 3px 1px rgba(0, 0, 0, 0.15);\n",
              "      filter: drop-shadow(0px 1px 2px rgba(0, 0, 0, 0.3));\n",
              "      fill: #FFFFFF;\n",
              "    }\n",
              "  </style>\n",
              "\n",
              "    <script>\n",
              "      const buttonEl =\n",
              "        document.querySelector('#df-1ad45096-4733-4901-a8da-fa5f5b856479 button.colab-df-convert');\n",
              "      buttonEl.style.display =\n",
              "        google.colab.kernel.accessAllowed ? 'block' : 'none';\n",
              "\n",
              "      async function convertToInteractive(key) {\n",
              "        const element = document.querySelector('#df-1ad45096-4733-4901-a8da-fa5f5b856479');\n",
              "        const dataTable =\n",
              "          await google.colab.kernel.invokeFunction('convertToInteractive',\n",
              "                                                    [key], {});\n",
              "        if (!dataTable) return;\n",
              "\n",
              "        const docLinkHtml = 'Like what you see? Visit the ' +\n",
              "          '<a target=\"_blank\" href=https://colab.research.google.com/notebooks/data_table.ipynb>data table notebook</a>'\n",
              "          + ' to learn more about interactive tables.';\n",
              "        element.innerHTML = '';\n",
              "        dataTable['output_type'] = 'display_data';\n",
              "        await google.colab.output.renderOutput(dataTable, element);\n",
              "        const docLink = document.createElement('div');\n",
              "        docLink.innerHTML = docLinkHtml;\n",
              "        element.appendChild(docLink);\n",
              "      }\n",
              "    </script>\n",
              "  </div>\n",
              "\n",
              "\n",
              "<div id=\"df-c1564cf2-0ae9-4460-b7e8-ed6d3669cfa8\">\n",
              "  <button class=\"colab-df-quickchart\" onclick=\"quickchart('df-c1564cf2-0ae9-4460-b7e8-ed6d3669cfa8')\"\n",
              "            title=\"Suggest charts\"\n",
              "            style=\"display:none;\">\n",
              "\n",
              "<svg xmlns=\"http://www.w3.org/2000/svg\" height=\"24px\"viewBox=\"0 0 24 24\"\n",
              "     width=\"24px\">\n",
              "    <g>\n",
              "        <path d=\"M19 3H5c-1.1 0-2 .9-2 2v14c0 1.1.9 2 2 2h14c1.1 0 2-.9 2-2V5c0-1.1-.9-2-2-2zM9 17H7v-7h2v7zm4 0h-2V7h2v10zm4 0h-2v-4h2v4z\"/>\n",
              "    </g>\n",
              "</svg>\n",
              "  </button>\n",
              "\n",
              "<style>\n",
              "  .colab-df-quickchart {\n",
              "      --bg-color: #E8F0FE;\n",
              "      --fill-color: #1967D2;\n",
              "      --hover-bg-color: #E2EBFA;\n",
              "      --hover-fill-color: #174EA6;\n",
              "      --disabled-fill-color: #AAA;\n",
              "      --disabled-bg-color: #DDD;\n",
              "  }\n",
              "\n",
              "  [theme=dark] .colab-df-quickchart {\n",
              "      --bg-color: #3B4455;\n",
              "      --fill-color: #D2E3FC;\n",
              "      --hover-bg-color: #434B5C;\n",
              "      --hover-fill-color: #FFFFFF;\n",
              "      --disabled-bg-color: #3B4455;\n",
              "      --disabled-fill-color: #666;\n",
              "  }\n",
              "\n",
              "  .colab-df-quickchart {\n",
              "    background-color: var(--bg-color);\n",
              "    border: none;\n",
              "    border-radius: 50%;\n",
              "    cursor: pointer;\n",
              "    display: none;\n",
              "    fill: var(--fill-color);\n",
              "    height: 32px;\n",
              "    padding: 0;\n",
              "    width: 32px;\n",
              "  }\n",
              "\n",
              "  .colab-df-quickchart:hover {\n",
              "    background-color: var(--hover-bg-color);\n",
              "    box-shadow: 0 1px 2px rgba(60, 64, 67, 0.3), 0 1px 3px 1px rgba(60, 64, 67, 0.15);\n",
              "    fill: var(--button-hover-fill-color);\n",
              "  }\n",
              "\n",
              "  .colab-df-quickchart-complete:disabled,\n",
              "  .colab-df-quickchart-complete:disabled:hover {\n",
              "    background-color: var(--disabled-bg-color);\n",
              "    fill: var(--disabled-fill-color);\n",
              "    box-shadow: none;\n",
              "  }\n",
              "\n",
              "  .colab-df-spinner {\n",
              "    border: 2px solid var(--fill-color);\n",
              "    border-color: transparent;\n",
              "    border-bottom-color: var(--fill-color);\n",
              "    animation:\n",
              "      spin 1s steps(1) infinite;\n",
              "  }\n",
              "\n",
              "  @keyframes spin {\n",
              "    0% {\n",
              "      border-color: transparent;\n",
              "      border-bottom-color: var(--fill-color);\n",
              "      border-left-color: var(--fill-color);\n",
              "    }\n",
              "    20% {\n",
              "      border-color: transparent;\n",
              "      border-left-color: var(--fill-color);\n",
              "      border-top-color: var(--fill-color);\n",
              "    }\n",
              "    30% {\n",
              "      border-color: transparent;\n",
              "      border-left-color: var(--fill-color);\n",
              "      border-top-color: var(--fill-color);\n",
              "      border-right-color: var(--fill-color);\n",
              "    }\n",
              "    40% {\n",
              "      border-color: transparent;\n",
              "      border-right-color: var(--fill-color);\n",
              "      border-top-color: var(--fill-color);\n",
              "    }\n",
              "    60% {\n",
              "      border-color: transparent;\n",
              "      border-right-color: var(--fill-color);\n",
              "    }\n",
              "    80% {\n",
              "      border-color: transparent;\n",
              "      border-right-color: var(--fill-color);\n",
              "      border-bottom-color: var(--fill-color);\n",
              "    }\n",
              "    90% {\n",
              "      border-color: transparent;\n",
              "      border-bottom-color: var(--fill-color);\n",
              "    }\n",
              "  }\n",
              "</style>\n",
              "\n",
              "  <script>\n",
              "    async function quickchart(key) {\n",
              "      const quickchartButtonEl =\n",
              "        document.querySelector('#' + key + ' button');\n",
              "      quickchartButtonEl.disabled = true;  // To prevent multiple clicks.\n",
              "      quickchartButtonEl.classList.add('colab-df-spinner');\n",
              "      try {\n",
              "        const charts = await google.colab.kernel.invokeFunction(\n",
              "            'suggestCharts', [key], {});\n",
              "      } catch (error) {\n",
              "        console.error('Error during call to suggestCharts:', error);\n",
              "      }\n",
              "      quickchartButtonEl.classList.remove('colab-df-spinner');\n",
              "      quickchartButtonEl.classList.add('colab-df-quickchart-complete');\n",
              "    }\n",
              "    (() => {\n",
              "      let quickchartButtonEl =\n",
              "        document.querySelector('#df-c1564cf2-0ae9-4460-b7e8-ed6d3669cfa8 button');\n",
              "      quickchartButtonEl.style.display =\n",
              "        google.colab.kernel.accessAllowed ? 'block' : 'none';\n",
              "    })();\n",
              "  </script>\n",
              "</div>\n",
              "    </div>\n",
              "  </div>\n"
            ],
            "application/vnd.google.colaboratory.intrinsic+json": {
              "type": "dataframe",
              "variable_name": "df",
              "summary": "{\n  \"name\": \"df\",\n  \"rows\": 699,\n  \"fields\": [\n    {\n      \"column\": \"Id\",\n      \"properties\": {\n        \"dtype\": \"number\",\n        \"std\": 617095,\n        \"min\": 61634,\n        \"max\": 13454352,\n        \"num_unique_values\": 645,\n        \"samples\": [\n          1371920,\n          1277792,\n          1311108\n        ],\n        \"semantic_type\": \"\",\n        \"description\": \"\"\n      }\n    },\n    {\n      \"column\": \"Clump_thickness\",\n      \"properties\": {\n        \"dtype\": \"number\",\n        \"std\": 2,\n        \"min\": 1,\n        \"max\": 10,\n        \"num_unique_values\": 10,\n        \"samples\": [\n          10,\n          3,\n          1\n        ],\n        \"semantic_type\": \"\",\n        \"description\": \"\"\n      }\n    },\n    {\n      \"column\": \"Uniformity_Cell_Size\",\n      \"properties\": {\n        \"dtype\": \"number\",\n        \"std\": 3,\n        \"min\": 1,\n        \"max\": 10,\n        \"num_unique_values\": 10,\n        \"samples\": [\n          6,\n          4,\n          3\n        ],\n        \"semantic_type\": \"\",\n        \"description\": \"\"\n      }\n    },\n    {\n      \"column\": \"Uniformity_Cell_Shape\",\n      \"properties\": {\n        \"dtype\": \"number\",\n        \"std\": 2,\n        \"min\": 1,\n        \"max\": 10,\n        \"num_unique_values\": 10,\n        \"samples\": [\n          7,\n          4,\n          3\n        ],\n        \"semantic_type\": \"\",\n        \"description\": \"\"\n      }\n    },\n    {\n      \"column\": \"Marginal_Adhesion\",\n      \"properties\": {\n        \"dtype\": \"number\",\n        \"std\": 2,\n        \"min\": 1,\n        \"max\": 10,\n        \"num_unique_values\": 10,\n        \"samples\": [\n          9,\n          5,\n          4\n        ],\n        \"semantic_type\": \"\",\n        \"description\": \"\"\n      }\n    },\n    {\n      \"column\": \"Single_Epithelial_Cell_Size\",\n      \"properties\": {\n        \"dtype\": \"number\",\n        \"std\": 2,\n        \"min\": 1,\n        \"max\": 10,\n        \"num_unique_values\": 10,\n        \"samples\": [\n          10,\n          7,\n          4\n        ],\n        \"semantic_type\": \"\",\n        \"description\": \"\"\n      }\n    },\n    {\n      \"column\": \"Bare_Nuclei\",\n      \"properties\": {\n        \"dtype\": \"category\",\n        \"num_unique_values\": 11,\n        \"samples\": [\n          \"9\",\n          \"1\",\n          \"8\"\n        ],\n        \"semantic_type\": \"\",\n        \"description\": \"\"\n      }\n    },\n    {\n      \"column\": \"Bland_Chromatin\",\n      \"properties\": {\n        \"dtype\": \"number\",\n        \"std\": 2,\n        \"min\": 1,\n        \"max\": 10,\n        \"num_unique_values\": 10,\n        \"samples\": [\n          6,\n          9,\n          5\n        ],\n        \"semantic_type\": \"\",\n        \"description\": \"\"\n      }\n    },\n    {\n      \"column\": \"Normal_Nucleoli\",\n      \"properties\": {\n        \"dtype\": \"number\",\n        \"std\": 3,\n        \"min\": 1,\n        \"max\": 10,\n        \"num_unique_values\": 10,\n        \"samples\": [\n          9,\n          2,\n          3\n        ],\n        \"semantic_type\": \"\",\n        \"description\": \"\"\n      }\n    },\n    {\n      \"column\": \"Mitoses\",\n      \"properties\": {\n        \"dtype\": \"number\",\n        \"std\": 1,\n        \"min\": 1,\n        \"max\": 10,\n        \"num_unique_values\": 9,\n        \"samples\": [\n          8,\n          5,\n          7\n        ],\n        \"semantic_type\": \"\",\n        \"description\": \"\"\n      }\n    },\n    {\n      \"column\": \"Class\",\n      \"properties\": {\n        \"dtype\": \"number\",\n        \"std\": 0,\n        \"min\": 2,\n        \"max\": 4,\n        \"num_unique_values\": 2,\n        \"samples\": [\n          4,\n          2\n        ],\n        \"semantic_type\": \"\",\n        \"description\": \"\"\n      }\n    }\n  ]\n}"
            }
          },
          "metadata": {},
          "execution_count": 5
        }
      ]
    },
    {
      "cell_type": "code",
      "source": [
        "df.drop('Id', axis=1, inplace=True)"
      ],
      "metadata": {
        "id": "GqLvgsr-HiI5"
      },
      "execution_count": 6,
      "outputs": []
    },
    {
      "cell_type": "code",
      "source": [
        "# view summary of dataset\n",
        "\n",
        "df.info()"
      ],
      "metadata": {
        "colab": {
          "base_uri": "https://localhost:8080/"
        },
        "id": "lvrMbNRMHkEM",
        "outputId": "157745cb-b38e-466a-9c2d-0514501fcae3"
      },
      "execution_count": 7,
      "outputs": [
        {
          "output_type": "stream",
          "name": "stdout",
          "text": [
            "<class 'pandas.core.frame.DataFrame'>\n",
            "RangeIndex: 699 entries, 0 to 698\n",
            "Data columns (total 10 columns):\n",
            " #   Column                       Non-Null Count  Dtype \n",
            "---  ------                       --------------  ----- \n",
            " 0   Clump_thickness              699 non-null    int64 \n",
            " 1   Uniformity_Cell_Size         699 non-null    int64 \n",
            " 2   Uniformity_Cell_Shape        699 non-null    int64 \n",
            " 3   Marginal_Adhesion            699 non-null    int64 \n",
            " 4   Single_Epithelial_Cell_Size  699 non-null    int64 \n",
            " 5   Bare_Nuclei                  699 non-null    object\n",
            " 6   Bland_Chromatin              699 non-null    int64 \n",
            " 7   Normal_Nucleoli              699 non-null    int64 \n",
            " 8   Mitoses                      699 non-null    int64 \n",
            " 9   Class                        699 non-null    int64 \n",
            "dtypes: int64(9), object(1)\n",
            "memory usage: 54.7+ KB\n"
          ]
        }
      ]
    },
    {
      "cell_type": "code",
      "source": [
        "for var in df.columns:\n",
        "\n",
        "    print(df[var].value_counts())"
      ],
      "metadata": {
        "colab": {
          "base_uri": "https://localhost:8080/"
        },
        "id": "2luE_16XHlxk",
        "outputId": "0f2b877b-6501-48c5-a0b1-3f79fc68128d"
      },
      "execution_count": 8,
      "outputs": [
        {
          "output_type": "stream",
          "name": "stdout",
          "text": [
            "Clump_thickness\n",
            "1     145\n",
            "5     130\n",
            "3     108\n",
            "4      80\n",
            "10     69\n",
            "2      50\n",
            "8      46\n",
            "6      34\n",
            "7      23\n",
            "9      14\n",
            "Name: count, dtype: int64\n",
            "Uniformity_Cell_Size\n",
            "1     384\n",
            "10     67\n",
            "3      52\n",
            "2      45\n",
            "4      40\n",
            "5      30\n",
            "8      29\n",
            "6      27\n",
            "7      19\n",
            "9       6\n",
            "Name: count, dtype: int64\n",
            "Uniformity_Cell_Shape\n",
            "1     353\n",
            "2      59\n",
            "10     58\n",
            "3      56\n",
            "4      44\n",
            "5      34\n",
            "6      30\n",
            "7      30\n",
            "8      28\n",
            "9       7\n",
            "Name: count, dtype: int64\n",
            "Marginal_Adhesion\n",
            "1     407\n",
            "3      58\n",
            "2      58\n",
            "10     55\n",
            "4      33\n",
            "8      25\n",
            "5      23\n",
            "6      22\n",
            "7      13\n",
            "9       5\n",
            "Name: count, dtype: int64\n",
            "Single_Epithelial_Cell_Size\n",
            "2     386\n",
            "3      72\n",
            "4      48\n",
            "1      47\n",
            "6      41\n",
            "5      39\n",
            "10     31\n",
            "8      21\n",
            "7      12\n",
            "9       2\n",
            "Name: count, dtype: int64\n",
            "Bare_Nuclei\n",
            "1     402\n",
            "10    132\n",
            "2      30\n",
            "5      30\n",
            "3      28\n",
            "8      21\n",
            "4      19\n",
            "?      16\n",
            "9       9\n",
            "7       8\n",
            "6       4\n",
            "Name: count, dtype: int64\n",
            "Bland_Chromatin\n",
            "2     166\n",
            "3     165\n",
            "1     152\n",
            "7      73\n",
            "4      40\n",
            "5      34\n",
            "8      28\n",
            "10     20\n",
            "9      11\n",
            "6      10\n",
            "Name: count, dtype: int64\n",
            "Normal_Nucleoli\n",
            "1     443\n",
            "10     61\n",
            "3      44\n",
            "2      36\n",
            "8      24\n",
            "6      22\n",
            "5      19\n",
            "4      18\n",
            "7      16\n",
            "9      16\n",
            "Name: count, dtype: int64\n",
            "Mitoses\n",
            "1     579\n",
            "2      35\n",
            "3      33\n",
            "10     14\n",
            "4      12\n",
            "7       9\n",
            "8       8\n",
            "5       6\n",
            "6       3\n",
            "Name: count, dtype: int64\n",
            "Class\n",
            "2    458\n",
            "4    241\n",
            "Name: count, dtype: int64\n"
          ]
        }
      ]
    },
    {
      "cell_type": "code",
      "source": [
        "df['Bare_Nuclei'] = pd.to_numeric(df['Bare_Nuclei'], errors='coerce')"
      ],
      "metadata": {
        "id": "D1Es2uA8Hn-3"
      },
      "execution_count": 9,
      "outputs": []
    },
    {
      "cell_type": "code",
      "source": [
        "df.dtypes"
      ],
      "metadata": {
        "colab": {
          "base_uri": "https://localhost:8080/"
        },
        "id": "Olkuv1uAHr_5",
        "outputId": "1b0ef368-336f-482b-a19b-146dcad39740"
      },
      "execution_count": 10,
      "outputs": [
        {
          "output_type": "execute_result",
          "data": {
            "text/plain": [
              "Clump_thickness                  int64\n",
              "Uniformity_Cell_Size             int64\n",
              "Uniformity_Cell_Shape            int64\n",
              "Marginal_Adhesion                int64\n",
              "Single_Epithelial_Cell_Size      int64\n",
              "Bare_Nuclei                    float64\n",
              "Bland_Chromatin                  int64\n",
              "Normal_Nucleoli                  int64\n",
              "Mitoses                          int64\n",
              "Class                            int64\n",
              "dtype: object"
            ]
          },
          "metadata": {},
          "execution_count": 10
        }
      ]
    },
    {
      "cell_type": "code",
      "source": [
        "df.isnull().sum()"
      ],
      "metadata": {
        "colab": {
          "base_uri": "https://localhost:8080/"
        },
        "id": "pXknV5-wHtjg",
        "outputId": "edef9529-0392-4069-bb92-9b7a76ef5266"
      },
      "execution_count": 11,
      "outputs": [
        {
          "output_type": "execute_result",
          "data": {
            "text/plain": [
              "Clump_thickness                 0\n",
              "Uniformity_Cell_Size            0\n",
              "Uniformity_Cell_Shape           0\n",
              "Marginal_Adhesion               0\n",
              "Single_Epithelial_Cell_Size     0\n",
              "Bare_Nuclei                    16\n",
              "Bland_Chromatin                 0\n",
              "Normal_Nucleoli                 0\n",
              "Mitoses                         0\n",
              "Class                           0\n",
              "dtype: int64"
            ]
          },
          "metadata": {},
          "execution_count": 11
        }
      ]
    },
    {
      "cell_type": "code",
      "source": [
        "# check `na` values in the dataframe\n",
        "\n",
        "df.isna().sum()"
      ],
      "metadata": {
        "colab": {
          "base_uri": "https://localhost:8080/"
        },
        "id": "9Qwi-_7sHv2v",
        "outputId": "c486cafa-6565-473a-8f1d-a7a70dba3548"
      },
      "execution_count": 12,
      "outputs": [
        {
          "output_type": "execute_result",
          "data": {
            "text/plain": [
              "Clump_thickness                 0\n",
              "Uniformity_Cell_Size            0\n",
              "Uniformity_Cell_Shape           0\n",
              "Marginal_Adhesion               0\n",
              "Single_Epithelial_Cell_Size     0\n",
              "Bare_Nuclei                    16\n",
              "Bland_Chromatin                 0\n",
              "Normal_Nucleoli                 0\n",
              "Mitoses                         0\n",
              "Class                           0\n",
              "dtype: int64"
            ]
          },
          "metadata": {},
          "execution_count": 12
        }
      ]
    },
    {
      "cell_type": "code",
      "source": [
        "# check frequency distribution of `Bare_Nuclei` column\n",
        "\n",
        "df['Bare_Nuclei'].value_counts()"
      ],
      "metadata": {
        "colab": {
          "base_uri": "https://localhost:8080/"
        },
        "id": "hzB8DJNTHyJa",
        "outputId": "d504e2f9-27ff-480e-97d6-5236484346b6"
      },
      "execution_count": 13,
      "outputs": [
        {
          "output_type": "execute_result",
          "data": {
            "text/plain": [
              "Bare_Nuclei\n",
              "1.0     402\n",
              "10.0    132\n",
              "2.0      30\n",
              "5.0      30\n",
              "3.0      28\n",
              "8.0      21\n",
              "4.0      19\n",
              "9.0       9\n",
              "7.0       8\n",
              "6.0       4\n",
              "Name: count, dtype: int64"
            ]
          },
          "metadata": {},
          "execution_count": 13
        }
      ]
    },
    {
      "cell_type": "code",
      "source": [
        "# check unique values in `Bare_Nuclei` column\n",
        "\n",
        "df['Bare_Nuclei'].unique()"
      ],
      "metadata": {
        "colab": {
          "base_uri": "https://localhost:8080/"
        },
        "id": "UEbpLUAEH0HG",
        "outputId": "bef9bbf2-2d04-4482-d7a3-95e878d0d8d0"
      },
      "execution_count": 14,
      "outputs": [
        {
          "output_type": "execute_result",
          "data": {
            "text/plain": [
              "array([ 1., 10.,  2.,  4.,  3.,  9.,  7., nan,  5.,  8.,  6.])"
            ]
          },
          "metadata": {},
          "execution_count": 14
        }
      ]
    },
    {
      "cell_type": "code",
      "source": [
        "# check for nan values in `Bare_Nuclei` column\n",
        "\n",
        "df['Bare_Nuclei'].isna().sum()"
      ],
      "metadata": {
        "colab": {
          "base_uri": "https://localhost:8080/"
        },
        "id": "_Bu3xbQ5IB05",
        "outputId": "07563a88-5ad7-4d9b-ad24-05ac92f808c6"
      },
      "execution_count": 15,
      "outputs": [
        {
          "output_type": "execute_result",
          "data": {
            "text/plain": [
              "16"
            ]
          },
          "metadata": {},
          "execution_count": 15
        }
      ]
    },
    {
      "cell_type": "code",
      "source": [
        "# view frequency distribution of values in `Class` variable\n",
        "\n",
        "df['Class'].value_counts()"
      ],
      "metadata": {
        "colab": {
          "base_uri": "https://localhost:8080/"
        },
        "id": "7s47-RAwIDoW",
        "outputId": "864ade1e-6dd2-4c06-ab22-5cf4d20dde9f"
      },
      "execution_count": 16,
      "outputs": [
        {
          "output_type": "execute_result",
          "data": {
            "text/plain": [
              "Class\n",
              "2    458\n",
              "4    241\n",
              "Name: count, dtype: int64"
            ]
          },
          "metadata": {},
          "execution_count": 16
        }
      ]
    },
    {
      "cell_type": "code",
      "source": [
        "import numpy as np"
      ],
      "metadata": {
        "id": "A0rsT-dOILyJ"
      },
      "execution_count": 18,
      "outputs": []
    },
    {
      "cell_type": "code",
      "source": [
        "# view summary statistics in numerical variables\n",
        "\n",
        "print(round(df.describe(),2))"
      ],
      "metadata": {
        "colab": {
          "base_uri": "https://localhost:8080/"
        },
        "id": "fE9cmVPZIHSq",
        "outputId": "13b741c1-1e36-49be-f536-d5c3aa2c43a6"
      },
      "execution_count": 21,
      "outputs": [
        {
          "output_type": "stream",
          "name": "stdout",
          "text": [
            "       Clump_thickness  Uniformity_Cell_Size  Uniformity_Cell_Shape  \\\n",
            "count           699.00                699.00                 699.00   \n",
            "mean              4.42                  3.13                   3.21   \n",
            "std               2.82                  3.05                   2.97   \n",
            "min               1.00                  1.00                   1.00   \n",
            "25%               2.00                  1.00                   1.00   \n",
            "50%               4.00                  1.00                   1.00   \n",
            "75%               6.00                  5.00                   5.00   \n",
            "max              10.00                 10.00                  10.00   \n",
            "\n",
            "       Marginal_Adhesion  Single_Epithelial_Cell_Size  Bare_Nuclei  \\\n",
            "count             699.00                       699.00       683.00   \n",
            "mean                2.81                         3.22         3.54   \n",
            "std                 2.86                         2.21         3.64   \n",
            "min                 1.00                         1.00         1.00   \n",
            "25%                 1.00                         2.00         1.00   \n",
            "50%                 1.00                         2.00         1.00   \n",
            "75%                 4.00                         4.00         6.00   \n",
            "max                10.00                        10.00        10.00   \n",
            "\n",
            "       Bland_Chromatin  Normal_Nucleoli  Mitoses   Class  \n",
            "count           699.00           699.00   699.00  699.00  \n",
            "mean              3.44             2.87     1.59    2.69  \n",
            "std               2.44             3.05     1.72    0.95  \n",
            "min               1.00             1.00     1.00    2.00  \n",
            "25%               2.00             1.00     1.00    2.00  \n",
            "50%               3.00             1.00     1.00    2.00  \n",
            "75%               5.00             4.00     1.00    4.00  \n",
            "max              10.00            10.00    10.00    4.00  \n"
          ]
        }
      ]
    },
    {
      "cell_type": "code",
      "source": [
        "X = df.drop(['Class'], axis=1)\n",
        "\n",
        "y = df['Class']"
      ],
      "metadata": {
        "id": "brkk4K3_IUC7"
      },
      "execution_count": 22,
      "outputs": []
    },
    {
      "cell_type": "code",
      "source": [
        "from sklearn.model_selection import train_test_split\n",
        "\n",
        "X_train, X_test, y_train, y_test = train_test_split(X, y, test_size = 0.2, random_state = 0)"
      ],
      "metadata": {
        "id": "R0pWmBrQIaI2"
      },
      "execution_count": 23,
      "outputs": []
    },
    {
      "cell_type": "code",
      "source": [
        "X_train.shape, X_test.shape"
      ],
      "metadata": {
        "colab": {
          "base_uri": "https://localhost:8080/"
        },
        "id": "Xo9ucCALIcOy",
        "outputId": "eebc8c26-88d9-402e-a22a-12debd269741"
      },
      "execution_count": 24,
      "outputs": [
        {
          "output_type": "execute_result",
          "data": {
            "text/plain": [
              "((559, 9), (140, 9))"
            ]
          },
          "metadata": {},
          "execution_count": 24
        }
      ]
    },
    {
      "cell_type": "code",
      "source": [
        "for col in X_train.columns:\n",
        "    if X_train[col].isnull().mean()>0:\n",
        "        print(col, round(X_train[col].isnull().mean(),4))"
      ],
      "metadata": {
        "colab": {
          "base_uri": "https://localhost:8080/"
        },
        "id": "mTxHCEoBIeJ4",
        "outputId": "6d40cd49-ca30-4682-e6b5-6e4de0278b74"
      },
      "execution_count": 25,
      "outputs": [
        {
          "output_type": "stream",
          "name": "stdout",
          "text": [
            "Bare_Nuclei 0.0233\n"
          ]
        }
      ]
    },
    {
      "cell_type": "code",
      "source": [
        "\n",
        "for df1 in [X_train, X_test]:\n",
        "    for col in X_train.columns:\n",
        "        col_median=X_train[col].median()\n",
        "        df1[col].fillna(col_median, inplace=True)"
      ],
      "metadata": {
        "id": "DLhhtD8MIhTU"
      },
      "execution_count": 26,
      "outputs": []
    },
    {
      "cell_type": "code",
      "source": [
        "cols = X_train.columns\n"
      ],
      "metadata": {
        "id": "amdw3k54Ilm9"
      },
      "execution_count": 27,
      "outputs": []
    },
    {
      "cell_type": "code",
      "source": [
        "from sklearn.preprocessing import StandardScaler\n",
        "\n",
        "scaler = StandardScaler()\n",
        "\n",
        "X_train = scaler.fit_transform(X_train)\n",
        "\n",
        "X_test = scaler.transform(X_test)"
      ],
      "metadata": {
        "id": "RBvgr-47Inot"
      },
      "execution_count": 28,
      "outputs": []
    },
    {
      "cell_type": "code",
      "source": [
        "X_train = pd.DataFrame(X_train, columns=[cols])"
      ],
      "metadata": {
        "id": "GLum6MvCIpii"
      },
      "execution_count": 29,
      "outputs": []
    },
    {
      "cell_type": "code",
      "source": [
        "X_test = pd.DataFrame(X_test, columns=[cols])"
      ],
      "metadata": {
        "id": "UZAf9XK6Irci"
      },
      "execution_count": 30,
      "outputs": []
    },
    {
      "cell_type": "code",
      "source": [
        "X_train.head()"
      ],
      "metadata": {
        "colab": {
          "base_uri": "https://localhost:8080/",
          "height": 226
        },
        "id": "4vAX4HmJItXr",
        "outputId": "d1eb5519-165a-4ca5-e55c-17cebce5d6db"
      },
      "execution_count": 31,
      "outputs": [
        {
          "output_type": "execute_result",
          "data": {
            "text/plain": [
              "  Clump_thickness Uniformity_Cell_Size Uniformity_Cell_Shape  \\\n",
              "0        2.028383             0.299506              0.289573   \n",
              "1        1.669451             2.257680              2.304569   \n",
              "2       -1.202005            -0.679581             -0.717925   \n",
              "3       -0.125209            -0.026856             -0.046260   \n",
              "4        0.233723            -0.353219             -0.382092   \n",
              "\n",
              "  Marginal_Adhesion Single_Epithelial_Cell_Size Bare_Nuclei Bland_Chromatin  \\\n",
              "0          1.119077                   -0.546543    1.858357       -0.577774   \n",
              "1         -0.622471                    3.106879    1.297589       -0.159953   \n",
              "2          0.074148                   -1.003220   -0.104329       -0.995595   \n",
              "3         -0.622471                   -0.546543   -0.665096       -0.159953   \n",
              "4         -0.274161                   -0.546543   -0.665096       -0.577774   \n",
              "\n",
              "  Normal_Nucleoli   Mitoses  \n",
              "0        0.041241 -0.324258  \n",
              "1        0.041241 -0.324258  \n",
              "2       -0.608165 -0.324258  \n",
              "3        0.041241 -0.324258  \n",
              "4       -0.283462 -0.324258  "
            ],
            "text/html": [
              "\n",
              "  <div id=\"df-8de641d0-0f07-4018-9eda-439d6e87a46f\" class=\"colab-df-container\">\n",
              "    <div>\n",
              "<style scoped>\n",
              "    .dataframe tbody tr th:only-of-type {\n",
              "        vertical-align: middle;\n",
              "    }\n",
              "\n",
              "    .dataframe tbody tr th {\n",
              "        vertical-align: top;\n",
              "    }\n",
              "\n",
              "    .dataframe thead tr th {\n",
              "        text-align: left;\n",
              "    }\n",
              "</style>\n",
              "<table border=\"1\" class=\"dataframe\">\n",
              "  <thead>\n",
              "    <tr>\n",
              "      <th></th>\n",
              "      <th>Clump_thickness</th>\n",
              "      <th>Uniformity_Cell_Size</th>\n",
              "      <th>Uniformity_Cell_Shape</th>\n",
              "      <th>Marginal_Adhesion</th>\n",
              "      <th>Single_Epithelial_Cell_Size</th>\n",
              "      <th>Bare_Nuclei</th>\n",
              "      <th>Bland_Chromatin</th>\n",
              "      <th>Normal_Nucleoli</th>\n",
              "      <th>Mitoses</th>\n",
              "    </tr>\n",
              "  </thead>\n",
              "  <tbody>\n",
              "    <tr>\n",
              "      <th>0</th>\n",
              "      <td>2.028383</td>\n",
              "      <td>0.299506</td>\n",
              "      <td>0.289573</td>\n",
              "      <td>1.119077</td>\n",
              "      <td>-0.546543</td>\n",
              "      <td>1.858357</td>\n",
              "      <td>-0.577774</td>\n",
              "      <td>0.041241</td>\n",
              "      <td>-0.324258</td>\n",
              "    </tr>\n",
              "    <tr>\n",
              "      <th>1</th>\n",
              "      <td>1.669451</td>\n",
              "      <td>2.257680</td>\n",
              "      <td>2.304569</td>\n",
              "      <td>-0.622471</td>\n",
              "      <td>3.106879</td>\n",
              "      <td>1.297589</td>\n",
              "      <td>-0.159953</td>\n",
              "      <td>0.041241</td>\n",
              "      <td>-0.324258</td>\n",
              "    </tr>\n",
              "    <tr>\n",
              "      <th>2</th>\n",
              "      <td>-1.202005</td>\n",
              "      <td>-0.679581</td>\n",
              "      <td>-0.717925</td>\n",
              "      <td>0.074148</td>\n",
              "      <td>-1.003220</td>\n",
              "      <td>-0.104329</td>\n",
              "      <td>-0.995595</td>\n",
              "      <td>-0.608165</td>\n",
              "      <td>-0.324258</td>\n",
              "    </tr>\n",
              "    <tr>\n",
              "      <th>3</th>\n",
              "      <td>-0.125209</td>\n",
              "      <td>-0.026856</td>\n",
              "      <td>-0.046260</td>\n",
              "      <td>-0.622471</td>\n",
              "      <td>-0.546543</td>\n",
              "      <td>-0.665096</td>\n",
              "      <td>-0.159953</td>\n",
              "      <td>0.041241</td>\n",
              "      <td>-0.324258</td>\n",
              "    </tr>\n",
              "    <tr>\n",
              "      <th>4</th>\n",
              "      <td>0.233723</td>\n",
              "      <td>-0.353219</td>\n",
              "      <td>-0.382092</td>\n",
              "      <td>-0.274161</td>\n",
              "      <td>-0.546543</td>\n",
              "      <td>-0.665096</td>\n",
              "      <td>-0.577774</td>\n",
              "      <td>-0.283462</td>\n",
              "      <td>-0.324258</td>\n",
              "    </tr>\n",
              "  </tbody>\n",
              "</table>\n",
              "</div>\n",
              "    <div class=\"colab-df-buttons\">\n",
              "\n",
              "  <div class=\"colab-df-container\">\n",
              "    <button class=\"colab-df-convert\" onclick=\"convertToInteractive('df-8de641d0-0f07-4018-9eda-439d6e87a46f')\"\n",
              "            title=\"Convert this dataframe to an interactive table.\"\n",
              "            style=\"display:none;\">\n",
              "\n",
              "  <svg xmlns=\"http://www.w3.org/2000/svg\" height=\"24px\" viewBox=\"0 -960 960 960\">\n",
              "    <path d=\"M120-120v-720h720v720H120Zm60-500h600v-160H180v160Zm220 220h160v-160H400v160Zm0 220h160v-160H400v160ZM180-400h160v-160H180v160Zm440 0h160v-160H620v160ZM180-180h160v-160H180v160Zm440 0h160v-160H620v160Z\"/>\n",
              "  </svg>\n",
              "    </button>\n",
              "\n",
              "  <style>\n",
              "    .colab-df-container {\n",
              "      display:flex;\n",
              "      gap: 12px;\n",
              "    }\n",
              "\n",
              "    .colab-df-convert {\n",
              "      background-color: #E8F0FE;\n",
              "      border: none;\n",
              "      border-radius: 50%;\n",
              "      cursor: pointer;\n",
              "      display: none;\n",
              "      fill: #1967D2;\n",
              "      height: 32px;\n",
              "      padding: 0 0 0 0;\n",
              "      width: 32px;\n",
              "    }\n",
              "\n",
              "    .colab-df-convert:hover {\n",
              "      background-color: #E2EBFA;\n",
              "      box-shadow: 0px 1px 2px rgba(60, 64, 67, 0.3), 0px 1px 3px 1px rgba(60, 64, 67, 0.15);\n",
              "      fill: #174EA6;\n",
              "    }\n",
              "\n",
              "    .colab-df-buttons div {\n",
              "      margin-bottom: 4px;\n",
              "    }\n",
              "\n",
              "    [theme=dark] .colab-df-convert {\n",
              "      background-color: #3B4455;\n",
              "      fill: #D2E3FC;\n",
              "    }\n",
              "\n",
              "    [theme=dark] .colab-df-convert:hover {\n",
              "      background-color: #434B5C;\n",
              "      box-shadow: 0px 1px 3px 1px rgba(0, 0, 0, 0.15);\n",
              "      filter: drop-shadow(0px 1px 2px rgba(0, 0, 0, 0.3));\n",
              "      fill: #FFFFFF;\n",
              "    }\n",
              "  </style>\n",
              "\n",
              "    <script>\n",
              "      const buttonEl =\n",
              "        document.querySelector('#df-8de641d0-0f07-4018-9eda-439d6e87a46f button.colab-df-convert');\n",
              "      buttonEl.style.display =\n",
              "        google.colab.kernel.accessAllowed ? 'block' : 'none';\n",
              "\n",
              "      async function convertToInteractive(key) {\n",
              "        const element = document.querySelector('#df-8de641d0-0f07-4018-9eda-439d6e87a46f');\n",
              "        const dataTable =\n",
              "          await google.colab.kernel.invokeFunction('convertToInteractive',\n",
              "                                                    [key], {});\n",
              "        if (!dataTable) return;\n",
              "\n",
              "        const docLinkHtml = 'Like what you see? Visit the ' +\n",
              "          '<a target=\"_blank\" href=https://colab.research.google.com/notebooks/data_table.ipynb>data table notebook</a>'\n",
              "          + ' to learn more about interactive tables.';\n",
              "        element.innerHTML = '';\n",
              "        dataTable['output_type'] = 'display_data';\n",
              "        await google.colab.output.renderOutput(dataTable, element);\n",
              "        const docLink = document.createElement('div');\n",
              "        docLink.innerHTML = docLinkHtml;\n",
              "        element.appendChild(docLink);\n",
              "      }\n",
              "    </script>\n",
              "  </div>\n",
              "\n",
              "\n",
              "<div id=\"df-a6ce1a2c-b59e-4b4f-aa3e-e29a901f7406\">\n",
              "  <button class=\"colab-df-quickchart\" onclick=\"quickchart('df-a6ce1a2c-b59e-4b4f-aa3e-e29a901f7406')\"\n",
              "            title=\"Suggest charts\"\n",
              "            style=\"display:none;\">\n",
              "\n",
              "<svg xmlns=\"http://www.w3.org/2000/svg\" height=\"24px\"viewBox=\"0 0 24 24\"\n",
              "     width=\"24px\">\n",
              "    <g>\n",
              "        <path d=\"M19 3H5c-1.1 0-2 .9-2 2v14c0 1.1.9 2 2 2h14c1.1 0 2-.9 2-2V5c0-1.1-.9-2-2-2zM9 17H7v-7h2v7zm4 0h-2V7h2v10zm4 0h-2v-4h2v4z\"/>\n",
              "    </g>\n",
              "</svg>\n",
              "  </button>\n",
              "\n",
              "<style>\n",
              "  .colab-df-quickchart {\n",
              "      --bg-color: #E8F0FE;\n",
              "      --fill-color: #1967D2;\n",
              "      --hover-bg-color: #E2EBFA;\n",
              "      --hover-fill-color: #174EA6;\n",
              "      --disabled-fill-color: #AAA;\n",
              "      --disabled-bg-color: #DDD;\n",
              "  }\n",
              "\n",
              "  [theme=dark] .colab-df-quickchart {\n",
              "      --bg-color: #3B4455;\n",
              "      --fill-color: #D2E3FC;\n",
              "      --hover-bg-color: #434B5C;\n",
              "      --hover-fill-color: #FFFFFF;\n",
              "      --disabled-bg-color: #3B4455;\n",
              "      --disabled-fill-color: #666;\n",
              "  }\n",
              "\n",
              "  .colab-df-quickchart {\n",
              "    background-color: var(--bg-color);\n",
              "    border: none;\n",
              "    border-radius: 50%;\n",
              "    cursor: pointer;\n",
              "    display: none;\n",
              "    fill: var(--fill-color);\n",
              "    height: 32px;\n",
              "    padding: 0;\n",
              "    width: 32px;\n",
              "  }\n",
              "\n",
              "  .colab-df-quickchart:hover {\n",
              "    background-color: var(--hover-bg-color);\n",
              "    box-shadow: 0 1px 2px rgba(60, 64, 67, 0.3), 0 1px 3px 1px rgba(60, 64, 67, 0.15);\n",
              "    fill: var(--button-hover-fill-color);\n",
              "  }\n",
              "\n",
              "  .colab-df-quickchart-complete:disabled,\n",
              "  .colab-df-quickchart-complete:disabled:hover {\n",
              "    background-color: var(--disabled-bg-color);\n",
              "    fill: var(--disabled-fill-color);\n",
              "    box-shadow: none;\n",
              "  }\n",
              "\n",
              "  .colab-df-spinner {\n",
              "    border: 2px solid var(--fill-color);\n",
              "    border-color: transparent;\n",
              "    border-bottom-color: var(--fill-color);\n",
              "    animation:\n",
              "      spin 1s steps(1) infinite;\n",
              "  }\n",
              "\n",
              "  @keyframes spin {\n",
              "    0% {\n",
              "      border-color: transparent;\n",
              "      border-bottom-color: var(--fill-color);\n",
              "      border-left-color: var(--fill-color);\n",
              "    }\n",
              "    20% {\n",
              "      border-color: transparent;\n",
              "      border-left-color: var(--fill-color);\n",
              "      border-top-color: var(--fill-color);\n",
              "    }\n",
              "    30% {\n",
              "      border-color: transparent;\n",
              "      border-left-color: var(--fill-color);\n",
              "      border-top-color: var(--fill-color);\n",
              "      border-right-color: var(--fill-color);\n",
              "    }\n",
              "    40% {\n",
              "      border-color: transparent;\n",
              "      border-right-color: var(--fill-color);\n",
              "      border-top-color: var(--fill-color);\n",
              "    }\n",
              "    60% {\n",
              "      border-color: transparent;\n",
              "      border-right-color: var(--fill-color);\n",
              "    }\n",
              "    80% {\n",
              "      border-color: transparent;\n",
              "      border-right-color: var(--fill-color);\n",
              "      border-bottom-color: var(--fill-color);\n",
              "    }\n",
              "    90% {\n",
              "      border-color: transparent;\n",
              "      border-bottom-color: var(--fill-color);\n",
              "    }\n",
              "  }\n",
              "</style>\n",
              "\n",
              "  <script>\n",
              "    async function quickchart(key) {\n",
              "      const quickchartButtonEl =\n",
              "        document.querySelector('#' + key + ' button');\n",
              "      quickchartButtonEl.disabled = true;  // To prevent multiple clicks.\n",
              "      quickchartButtonEl.classList.add('colab-df-spinner');\n",
              "      try {\n",
              "        const charts = await google.colab.kernel.invokeFunction(\n",
              "            'suggestCharts', [key], {});\n",
              "      } catch (error) {\n",
              "        console.error('Error during call to suggestCharts:', error);\n",
              "      }\n",
              "      quickchartButtonEl.classList.remove('colab-df-spinner');\n",
              "      quickchartButtonEl.classList.add('colab-df-quickchart-complete');\n",
              "    }\n",
              "    (() => {\n",
              "      let quickchartButtonEl =\n",
              "        document.querySelector('#df-a6ce1a2c-b59e-4b4f-aa3e-e29a901f7406 button');\n",
              "      quickchartButtonEl.style.display =\n",
              "        google.colab.kernel.accessAllowed ? 'block' : 'none';\n",
              "    })();\n",
              "  </script>\n",
              "</div>\n",
              "    </div>\n",
              "  </div>\n"
            ],
            "application/vnd.google.colaboratory.intrinsic+json": {
              "type": "dataframe",
              "variable_name": "X_train",
              "summary": "{\n  \"name\": \"X_train\",\n  \"rows\": 559,\n  \"fields\": [\n    {\n      \"column\": [\n        \"Clump_thickness\"\n      ],\n      \"properties\": {\n        \"dtype\": \"number\",\n        \"std\": 1.0008956562476135,\n        \"min\": -1.20200501392952,\n        \"max\": 2.028383461006065,\n        \"num_unique_values\": 10,\n        \"samples\": [\n          1.310519355464824,\n          1.6694514082354446,\n          -0.4841409083882788\n        ],\n        \"semantic_type\": \"\",\n        \"description\": \"\"\n      }\n    },\n    {\n      \"column\": [\n        \"Uniformity_Cell_Size\"\n      ],\n      \"properties\": {\n        \"dtype\": \"number\",\n        \"std\": 1.0008956562476135,\n        \"min\": -0.679581082606102,\n        \"max\": 2.257680452266148,\n        \"num_unique_values\": 10,\n        \"samples\": [\n          1.9313180595025647,\n          2.257680452266148,\n          0.6258684884482314\n        ],\n        \"semantic_type\": \"\",\n        \"description\": \"\"\n      }\n    },\n    {\n      \"column\": [\n        \"Uniformity_Cell_Shape\"\n      ],\n      \"properties\": {\n        \"dtype\": \"number\",\n        \"std\": 1.0008956562476135,\n        \"min\": -0.7179250537036868,\n        \"max\": 2.304569461094011,\n        \"num_unique_values\": 10,\n        \"samples\": [\n          0.9612385656283673,\n          2.304569461094011,\n          0.6254058417619565\n        ],\n        \"semantic_type\": \"\",\n        \"description\": \"\"\n      }\n    },\n    {\n      \"column\": [\n        \"Marginal_Adhesion\"\n      ],\n      \"properties\": {\n        \"dtype\": \"number\",\n        \"std\": 1.0008956562476135,\n        \"min\": -0.6224708658818083,\n        \"max\": 2.5123148460815328,\n        \"num_unique_values\": 10,\n        \"samples\": [\n          1.4673862754270859,\n          -0.6224708658818083,\n          0.4224577047726388\n        ],\n        \"semantic_type\": \"\",\n        \"description\": \"\"\n      }\n    },\n    {\n      \"column\": [\n        \"Single_Epithelial_Cell_Size\"\n      ],\n      \"properties\": {\n        \"dtype\": \"number\",\n        \"std\": 1.0008956562476135,\n        \"min\": -1.003220431402644,\n        \"max\": 3.106878909303139,\n        \"num_unique_values\": 10,\n        \"samples\": [\n          0.8234903866888151,\n          3.106878909303139,\n          0.36681268216595037\n        ],\n        \"semantic_type\": \"\",\n        \"description\": \"\"\n      }\n    },\n    {\n      \"column\": [\n        \"Bare_Nuclei\"\n      ],\n      \"properties\": {\n        \"dtype\": \"number\",\n        \"std\": 1.0008956562476135,\n        \"min\": -0.66509602742976,\n        \"max\": 1.8583565472302115,\n        \"num_unique_values\": 10,\n        \"samples\": [\n          -0.38471240802309653,\n          1.2975893084168846,\n          0.45643845019689405\n        ],\n        \"semantic_type\": \"\",\n        \"description\": \"\"\n      }\n    },\n    {\n      \"column\": [\n        \"Bland_Chromatin\"\n      ],\n      \"properties\": {\n        \"dtype\": \"number\",\n        \"std\": 1.0008956562476135,\n        \"min\": -0.9955946675704904,\n        \"max\": 2.7647932998072404,\n        \"num_unique_values\": 10,\n        \"samples\": [\n          1.093509758750471,\n          -0.15995289704210586,\n          1.5113306440146634\n        ],\n        \"semantic_type\": \"\",\n        \"description\": \"\"\n      }\n    },\n    {\n      \"column\": [\n        \"Normal_Nucleoli\"\n      ],\n      \"properties\": {\n        \"dtype\": \"number\",\n        \"std\": 1.0008956562476135,\n        \"min\": -0.6081653163303323,\n        \"max\": 2.314164871308543,\n        \"num_unique_values\": 10,\n        \"samples\": [\n          0.3659447462159593,\n          -0.6081653163303323,\n          1.0153514545801539\n        ],\n        \"semantic_type\": \"\",\n        \"description\": \"\"\n      }\n    },\n    {\n      \"column\": [\n        \"Mitoses\"\n      ],\n      \"properties\": {\n        \"dtype\": \"number\",\n        \"std\": 1.0008956562476135,\n        \"min\": -0.3242580130516804,\n        \"max\": 5.131735510904854,\n        \"num_unique_values\": 9,\n        \"samples\": [\n          3.9192925055811796,\n          5.131735510904854,\n          2.7068495002575053\n        ],\n        \"semantic_type\": \"\",\n        \"description\": \"\"\n      }\n    }\n  ]\n}"
            }
          },
          "metadata": {},
          "execution_count": 31
        }
      ]
    },
    {
      "cell_type": "code",
      "source": [
        "# import KNeighbors ClaSSifier from sklearn\n",
        "from sklearn.neighbors import KNeighborsClassifier\n",
        "\n",
        "\n",
        "# instantiate the model\n",
        "knn = KNeighborsClassifier(n_neighbors=3)\n",
        "\n",
        "\n",
        "# fit the model to the training set\n",
        "knn.fit(X_train, y_train)"
      ],
      "metadata": {
        "colab": {
          "base_uri": "https://localhost:8080/",
          "height": 75
        },
        "id": "1UtDzoq2Iu9X",
        "outputId": "19b50564-5a53-450b-d932-a2737b13f14b"
      },
      "execution_count": 32,
      "outputs": [
        {
          "output_type": "execute_result",
          "data": {
            "text/plain": [
              "KNeighborsClassifier(n_neighbors=3)"
            ],
            "text/html": [
              "<style>#sk-container-id-1 {color: black;background-color: white;}#sk-container-id-1 pre{padding: 0;}#sk-container-id-1 div.sk-toggleable {background-color: white;}#sk-container-id-1 label.sk-toggleable__label {cursor: pointer;display: block;width: 100%;margin-bottom: 0;padding: 0.3em;box-sizing: border-box;text-align: center;}#sk-container-id-1 label.sk-toggleable__label-arrow:before {content: \"▸\";float: left;margin-right: 0.25em;color: #696969;}#sk-container-id-1 label.sk-toggleable__label-arrow:hover:before {color: black;}#sk-container-id-1 div.sk-estimator:hover label.sk-toggleable__label-arrow:before {color: black;}#sk-container-id-1 div.sk-toggleable__content {max-height: 0;max-width: 0;overflow: hidden;text-align: left;background-color: #f0f8ff;}#sk-container-id-1 div.sk-toggleable__content pre {margin: 0.2em;color: black;border-radius: 0.25em;background-color: #f0f8ff;}#sk-container-id-1 input.sk-toggleable__control:checked~div.sk-toggleable__content {max-height: 200px;max-width: 100%;overflow: auto;}#sk-container-id-1 input.sk-toggleable__control:checked~label.sk-toggleable__label-arrow:before {content: \"▾\";}#sk-container-id-1 div.sk-estimator input.sk-toggleable__control:checked~label.sk-toggleable__label {background-color: #d4ebff;}#sk-container-id-1 div.sk-label input.sk-toggleable__control:checked~label.sk-toggleable__label {background-color: #d4ebff;}#sk-container-id-1 input.sk-hidden--visually {border: 0;clip: rect(1px 1px 1px 1px);clip: rect(1px, 1px, 1px, 1px);height: 1px;margin: -1px;overflow: hidden;padding: 0;position: absolute;width: 1px;}#sk-container-id-1 div.sk-estimator {font-family: monospace;background-color: #f0f8ff;border: 1px dotted black;border-radius: 0.25em;box-sizing: border-box;margin-bottom: 0.5em;}#sk-container-id-1 div.sk-estimator:hover {background-color: #d4ebff;}#sk-container-id-1 div.sk-parallel-item::after {content: \"\";width: 100%;border-bottom: 1px solid gray;flex-grow: 1;}#sk-container-id-1 div.sk-label:hover label.sk-toggleable__label {background-color: #d4ebff;}#sk-container-id-1 div.sk-serial::before {content: \"\";position: absolute;border-left: 1px solid gray;box-sizing: border-box;top: 0;bottom: 0;left: 50%;z-index: 0;}#sk-container-id-1 div.sk-serial {display: flex;flex-direction: column;align-items: center;background-color: white;padding-right: 0.2em;padding-left: 0.2em;position: relative;}#sk-container-id-1 div.sk-item {position: relative;z-index: 1;}#sk-container-id-1 div.sk-parallel {display: flex;align-items: stretch;justify-content: center;background-color: white;position: relative;}#sk-container-id-1 div.sk-item::before, #sk-container-id-1 div.sk-parallel-item::before {content: \"\";position: absolute;border-left: 1px solid gray;box-sizing: border-box;top: 0;bottom: 0;left: 50%;z-index: -1;}#sk-container-id-1 div.sk-parallel-item {display: flex;flex-direction: column;z-index: 1;position: relative;background-color: white;}#sk-container-id-1 div.sk-parallel-item:first-child::after {align-self: flex-end;width: 50%;}#sk-container-id-1 div.sk-parallel-item:last-child::after {align-self: flex-start;width: 50%;}#sk-container-id-1 div.sk-parallel-item:only-child::after {width: 0;}#sk-container-id-1 div.sk-dashed-wrapped {border: 1px dashed gray;margin: 0 0.4em 0.5em 0.4em;box-sizing: border-box;padding-bottom: 0.4em;background-color: white;}#sk-container-id-1 div.sk-label label {font-family: monospace;font-weight: bold;display: inline-block;line-height: 1.2em;}#sk-container-id-1 div.sk-label-container {text-align: center;}#sk-container-id-1 div.sk-container {/* jupyter's `normalize.less` sets `[hidden] { display: none; }` but bootstrap.min.css set `[hidden] { display: none !important; }` so we also need the `!important` here to be able to override the default hidden behavior on the sphinx rendered scikit-learn.org. See: https://github.com/scikit-learn/scikit-learn/issues/21755 */display: inline-block !important;position: relative;}#sk-container-id-1 div.sk-text-repr-fallback {display: none;}</style><div id=\"sk-container-id-1\" class=\"sk-top-container\"><div class=\"sk-text-repr-fallback\"><pre>KNeighborsClassifier(n_neighbors=3)</pre><b>In a Jupyter environment, please rerun this cell to show the HTML representation or trust the notebook. <br />On GitHub, the HTML representation is unable to render, please try loading this page with nbviewer.org.</b></div><div class=\"sk-container\" hidden><div class=\"sk-item\"><div class=\"sk-estimator sk-toggleable\"><input class=\"sk-toggleable__control sk-hidden--visually\" id=\"sk-estimator-id-1\" type=\"checkbox\" checked><label for=\"sk-estimator-id-1\" class=\"sk-toggleable__label sk-toggleable__label-arrow\">KNeighborsClassifier</label><div class=\"sk-toggleable__content\"><pre>KNeighborsClassifier(n_neighbors=3)</pre></div></div></div></div></div>"
            ]
          },
          "metadata": {},
          "execution_count": 32
        }
      ]
    },
    {
      "cell_type": "code",
      "source": [
        "y_pred = knn.predict(X_test)\n",
        "\n",
        "y_pred"
      ],
      "metadata": {
        "colab": {
          "base_uri": "https://localhost:8080/"
        },
        "id": "7EIkG-kyIzN2",
        "outputId": "74c1b072-a985-4043-f006-01437309e6ce"
      },
      "execution_count": 33,
      "outputs": [
        {
          "output_type": "execute_result",
          "data": {
            "text/plain": [
              "array([2, 2, 4, 2, 4, 2, 4, 2, 4, 2, 2, 2, 4, 4, 4, 2, 2, 4, 4, 2, 4, 4,\n",
              "       2, 2, 2, 4, 2, 2, 4, 4, 2, 2, 2, 2, 2, 2, 2, 4, 2, 2, 2, 2, 2, 2,\n",
              "       4, 4, 2, 4, 2, 4, 4, 2, 2, 4, 2, 2, 2, 2, 2, 2, 4, 2, 2, 4, 4, 4,\n",
              "       4, 2, 2, 4, 2, 2, 4, 4, 2, 2, 2, 2, 4, 2, 2, 2, 4, 2, 2, 2, 4, 2,\n",
              "       4, 4, 2, 2, 2, 4, 2, 2, 2, 4, 2, 4, 4, 2, 2, 2, 4, 2, 2, 2, 2, 2,\n",
              "       4, 4, 4, 2, 2, 2, 2, 2, 4, 4, 4, 4, 2, 4, 2, 2, 4, 4, 4, 4, 4, 2,\n",
              "       2, 4, 4, 2, 2, 4, 2, 2])"
            ]
          },
          "metadata": {},
          "execution_count": 33
        }
      ]
    },
    {
      "cell_type": "code",
      "source": [
        "knn.predict_proba(X_test)[:,0]"
      ],
      "metadata": {
        "colab": {
          "base_uri": "https://localhost:8080/"
        },
        "id": "9GqG96tNI2zC",
        "outputId": "dbb469f4-b1e6-4195-85aa-477984a3108c"
      },
      "execution_count": 34,
      "outputs": [
        {
          "output_type": "execute_result",
          "data": {
            "text/plain": [
              "array([1.        , 1.        , 0.33333333, 1.        , 0.        ,\n",
              "       1.        , 0.        , 1.        , 0.        , 0.66666667,\n",
              "       1.        , 1.        , 0.        , 0.33333333, 0.        ,\n",
              "       1.        , 1.        , 0.        , 0.        , 1.        ,\n",
              "       0.        , 0.        , 1.        , 1.        , 1.        ,\n",
              "       0.        , 1.        , 1.        , 0.        , 0.        ,\n",
              "       1.        , 1.        , 1.        , 1.        , 1.        ,\n",
              "       0.66666667, 1.        , 0.        , 1.        , 1.        ,\n",
              "       1.        , 1.        , 1.        , 1.        , 0.        ,\n",
              "       0.        , 1.        , 0.        , 1.        , 0.        ,\n",
              "       0.        , 1.        , 1.        , 0.        , 1.        ,\n",
              "       1.        , 1.        , 1.        , 0.66666667, 1.        ,\n",
              "       0.        , 1.        , 1.        , 0.        , 0.        ,\n",
              "       0.33333333, 0.        , 1.        , 1.        , 0.        ,\n",
              "       1.        , 1.        , 0.        , 0.        , 1.        ,\n",
              "       1.        , 1.        , 1.        , 0.        , 1.        ,\n",
              "       1.        , 1.        , 0.        , 1.        , 1.        ,\n",
              "       1.        , 0.        , 1.        , 0.        , 0.        ,\n",
              "       1.        , 1.        , 0.66666667, 0.        , 1.        ,\n",
              "       1.        , 1.        , 0.        , 1.        , 0.        ,\n",
              "       0.        , 1.        , 1.        , 1.        , 0.        ,\n",
              "       1.        , 1.        , 1.        , 1.        , 1.        ,\n",
              "       0.        , 0.33333333, 0.        , 1.        , 1.        ,\n",
              "       1.        , 1.        , 1.        , 0.        , 0.        ,\n",
              "       0.        , 0.33333333, 1.        , 0.        , 1.        ,\n",
              "       1.        , 0.33333333, 0.33333333, 0.        , 0.        ,\n",
              "       0.        , 1.        , 1.        , 0.33333333, 0.        ,\n",
              "       1.        , 1.        , 0.        , 1.        , 1.        ])"
            ]
          },
          "metadata": {},
          "execution_count": 34
        }
      ]
    },
    {
      "cell_type": "code",
      "source": [
        "from sklearn.metrics import accuracy_score\n",
        "\n",
        "print('Model accuracy score: {0:0.4f}'. format(accuracy_score(y_test, y_pred)))"
      ],
      "metadata": {
        "colab": {
          "base_uri": "https://localhost:8080/"
        },
        "id": "AsWttScOI5U8",
        "outputId": "095c02b8-ab93-4a97-ecf1-6e746c45603a"
      },
      "execution_count": 35,
      "outputs": [
        {
          "output_type": "stream",
          "name": "stdout",
          "text": [
            "Model accuracy score: 0.9714\n"
          ]
        }
      ]
    },
    {
      "cell_type": "code",
      "source": [
        "y_pred_train = knn.predict(X_train)"
      ],
      "metadata": {
        "id": "Kh6T15cQI7eg"
      },
      "execution_count": 36,
      "outputs": []
    },
    {
      "cell_type": "code",
      "source": [
        "print('Training-set accuracy score: {0:0.4f}'. format(accuracy_score(y_train, y_pred_train)))\n"
      ],
      "metadata": {
        "colab": {
          "base_uri": "https://localhost:8080/"
        },
        "id": "HIgpy3ImI90d",
        "outputId": "f78eb6fd-cbf4-4614-f518-33a191721771"
      },
      "execution_count": 37,
      "outputs": [
        {
          "output_type": "stream",
          "name": "stdout",
          "text": [
            "Training-set accuracy score: 0.9821\n"
          ]
        }
      ]
    },
    {
      "cell_type": "code",
      "source": [],
      "metadata": {
        "id": "MafXlYcVJAmr"
      },
      "execution_count": null,
      "outputs": []
    }
  ]
}
